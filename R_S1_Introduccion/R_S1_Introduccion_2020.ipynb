{
 "cells": [
  {
   "cell_type": "markdown",
   "metadata": {
    "button": false,
    "new_sheet": false,
    "run_control": {
     "read_only": false
    }
   },
   "source": [
    "# S1: Introducción a R, tipos de objetos"
   ]
  },
  {
   "cell_type": "markdown",
   "metadata": {},
   "source": [
    "Rodrigo García Manzanas: <rodrigo.manzanas@unican.es>"
   ]
  },
  {
   "cell_type": "markdown",
   "metadata": {
    "button": false,
    "new_sheet": false,
    "run_control": {
     "read_only": false
    }
   },
   "source": [
    "## ¿Qué es R?\n",
    "\n",
    "* En 1976, John Chambers, Rick Becker y Allan Wilks desarrollaron *S* como un conjunto de macros Fortran, que se convirtieron en el entorno de análisis estadístico de Bell Labs.\n",
    "* En 1988, se reescribió completamente S (S3) en código C. Diez años más tarde, en 1998, se lanzó la S4, que contenía un conjunto de características orientadas a objetos más avanzadas que las de S3. S4 (y su versión comercial S-Plus) siguen estando vigentes en la actualidad.\n",
    "* En pocas palabras, R es un dialecto libre del lenguaje S, desarrollado en 1993 por Robert Gentleman y Ross Ihaka del departamento de Estadística de la Universidad de Auckland.\n",
    "* Con varios millones de usuarios a nivel mundial, R se ha convertido rápidamente en uno de los lenguajes de programación líderes en estadística y ciencia de datos. Cada año, el número de usuarios de R crece en un 40%, y cada vez más organizaciones lo están usando para sus actividades cotidianas. Sus características básicas son:\n",
    "  + software libre de código abierto -> desarrolladores de todo el mundo contribuyen con paquetes que permiten realizar análisis cada vez más específicos y sofisticados. No hay limitaciones.   \n",
    "  + está en constante evolución y se dispone de una amplia documentación. Hay mucha información disponible en foros como *Stackoverflow*.\n",
    "  + gran capacidad de gráficos para visualizar información compleja de una forma sencilla. \n",
    "  + muy flexible, puede trabajar con datos procedentes de todo tipo de archivos: .txt, .csv, JSON, etc.\n",
    "* Existen múltiples guías para el aprendizaje y uso de R. Dos de las más populares son las siguientes:\n",
    "  + \"Introduccion a R\": http://cran.r-project.org/doc/contrib/R-intro-1.1.0-espanol.1.pdf\n",
    "  + \"R para principiantes\": https://cran.r-project.org/doc/contrib/rdebuts_es.pdf\n",
    "  + \"The R book\": ftp://ftp.tuebingen.mpg.de/pub/kyb/bresciani/Crawley%20-%20The%20R%20Book.pdf"
   ]
  },
  {
   "cell_type": "markdown",
   "metadata": {
    "button": false,
    "new_sheet": false,
    "run_control": {
     "read_only": false
    }
   },
   "source": [
    "## Primeros pasos con R\n",
    "\n",
    "* Instalación:\n",
    " + Desde la paǵina de CRAN (Comprehensive R Archive Network): https://cran.r-project.org/mirrors.html. CRAN es el repositorio oficial de R (y la mayoría de sus paquetes), el cual es coordinado por la \"R foundation\" y mantenido por la comunidad de usuarios de R en todo el mundo.\n",
    "   + En Ubuntu y otras distribuciones Linux suele bastar con ejecutar `sudo apt-get install r-base`\n",
    "   + Suele publicarse una nueva versión de R cada seis meses. Es conveniente utilizar siempre la última versión.\n",
    "* R es un lenguaje de programación orientado a objetos, muy similar en sintaxis a C y C++. Todo en R son objetos: un valor numérico es un objeto, un vector es un objeto, una función es un objeto, una base de datos es un objeto, un gráfico es un objeto... Entre otras cosas, esto significa que una misma función puede hacer cosas distintas según la clase del objeto que recibe como argumento, pudiendo incluso no hacer nada (o producir un error) si se le pasan argumentos de una clase inadecuada.\n",
    "* El nombre de un objeto de R puede ser cualquier cadena alfanumérica formada por letras (R distingue entre mayúsculas y minúsculas), dígitos del 0 al 9 (nunca en primera posición del nombre) y los signos \".\" y \"\\_\". Por ejemplo, *Var123* o *Var.123* son nombres válidos.\n",
    "\n",
    "### R desde terminal\n",
    "\n",
    "* Para abrir una sesión de R, simplemente ejecuta la orden `R` desde la terminal. Algunos comandos básicos son los siguientes:\n",
    "\n",
    "`# esto es un comentario\n",
    "getwd()  # muestra el directorio de trabajo actual\n",
    "setwd(\".../panorama/R\")  # especifica un nuevo directorio de trabajo\n",
    "list.files()  # lista el contenido del directorio de trabajo \n",
    "ls()  # lista los objetos guardados en memoria en la sesión de trabajo actual\n",
    "quit()  # cierra la sesión actual`\n",
    "\n",
    "### R en Jupyter\n",
    "\n",
    "* Para poder usar R desde Jupyter necesitamos instalar [IRKernel](https://irkernel.github.io/) (kernel de R para Jupyter), que permite incorporar celdas de código en lenguaje R. Para ello, hay que seguir las siguientes (https://irkernel.github.io/installation/#binary-panel):\n",
    "\n",
    " 1) Se instalan desde la consola de R los paquetes necesarios, incluido IRKernel:\n",
    " \n",
    "   `install.packages(c('repr', 'IRdisplay', 'evaluate', 'crayon', 'pbdZMQ', 'devtools', 'uuid', 'digest'))`   \n",
    "   `devtools::install_github('IRkernel/IRkernel')`\n",
    "   \n",
    " 2) A continuación debe hacerse visible el kernel desde Jupyter. Para ello, debemos ejecutar desde R:\n",
    " \n",
    "   `IRkernel::installspec()`   \n",
    "   \n",
    "Ahora se activará dentro del menú *Kernel* de Jupyter una nueva opción `R` para utilizar celdas con ese lenguaje.\n",
    "\n",
    "En ocasiones puede ocurrir que la instalación de IRKernel no se propague correctamente de forma que no podamos seleccionar el kernel de R desde el notebook. En ese caso, deberíamos en primer lugar evisar el listado de kernels  disponibles (desde la terminal):\n",
    "\n",
    "   `jupyter kernelspec list`\n",
    "   \n",
    "A continuación, en caso de que el kernel de R esté disponible, forzar su instalación:\n",
    "\n",
    "   `jupyter kernelspec install /path/jupyter/kernels/ir`\n",
    "\n",
    "En dicho momento debería aparecer como seleccionable desde el notebook.\n",
    "\n",
    "### RStudio\n",
    "* RStudio es un IDE (*Integrated Development Environment*, o Entorno de Desarrollo Integrado) de código abierto que permite interactuar con R de manera muy simple. Por decirlo de una manera gráfica, R será nuestro motor para el análisis de datos y Rstudio la carrocería que nos va a permitir manejar cómodamente toda la potencia del motor.\n",
    "* Entre otras ventajas, Rstudio permite autocompletar código (tecla tabulador), incluye un sistema de menús de ayuda muy completo, cuenta con un potente sistema para la gestión, descarga y construcción de librerías, dispone de un depurador de código que detecta posibles errores de sintaxis, es multiplataforma (existen versiones para Windows, Linux y Mac)...\n",
    "* Instalación: \n",
    "http://www.rstudio.com\n",
    "* Por defecto, RStudio tiene cuatro paneles principales (la interfaz puede modificarse en *Tools → Options → Panel Layout*). \n",
    "   + El panel inferior izquierdo es una consola de R. En ella se puede escribir y ejecutar código. \n",
    "   + El panel superior izquierdo es un editor de código. Los ficheros que se abran y se editen irán apareciendo en distintas pestañas.\n",
    "   + Los paneles de la derecha son menos importantes. \n",
    "      + El superior contiene un listado de las variables almacenadas en memoria y un histórico del código ejecutado (como principales funcionalidades).\n",
    "      + De entre todas las pestañas que aparecen en el inferior, las más usadas generalmente son:\n",
    "        + Files: da acceso al sistema de ficheros del disco duro.\n",
    "        + Plots: aloja los gráficos que cree R.\n",
    "        + Help: muestra la página de ayuda de las funciones cuando la solicite el usuario.             \n",
    "* Permite la creación de proyectos e integra funcionalidades git."
   ]
  },
  {
   "cell_type": "markdown",
   "metadata": {
    "button": false,
    "new_sheet": false,
    "run_control": {
     "read_only": false
    }
   },
   "source": [
    "## Estructuras de datos en R\n",
    "\n",
    "* Como ya hemos comentado, las entidades que R crea y manipula se denominan **objetos**.   \n",
    "  + Los atributos de un objeto suministran información específica sobre el propio objeto.\n",
    "  + Un objeto siempre lleva como attributo la longitud y la clase\n",
    "    + La función `class()` devuelve la clase del objeto.  \n",
    "    + La función `length()` devuelve la longitud del objeto.  \n",
    "    + La función `str()` da informacion sobre todo la estructura del objeto.  \n",
    "\n",
    "* R dispone las siguientes estructuras de datos (clases), que se ilustran en este [esquema](https://github.com/masterdatascience-UIMP-UC/introduccion-R/blob/master/R_S1_Introduccion/fig1_data_structures.pdf):\n",
    "  + vector\n",
    "  + matrix\n",
    "  + array\n",
    "  + list\n",
    "  + data.frame\n",
    "  + factor\n",
    "  \n",
    "* Estas estructuras pueden estar formadas por un único o varios tipos (clases atómicas).\n",
    "  + Enteros  - **integer** (e.g. 2L, as.integer(3))\n",
    "  + Numérico - **numeric/double** (números reales) (e.g. 2, 2.0, pi, Inf) \n",
    "  + Complejo - **complex** (e.g. 1 + 0i, 1 + 4i)   \n",
    "  + Lógicos - **logical** (TRUE, FALSE)     \n",
    "  + Caracteres - **character** (e.g, \"Hola\", \"mundo\")    "
   ]
  },
  {
   "cell_type": "markdown",
   "metadata": {
    "button": false,
    "new_sheet": false,
    "run_control": {
     "read_only": false
    }
   },
   "source": [
    "### Operadores elementales"
   ]
  },
  {
   "cell_type": "code",
   "execution_count": 206,
   "metadata": {
    "button": false,
    "new_sheet": false,
    "run_control": {
     "read_only": false
    }
   },
   "outputs": [
    {
     "data": {
      "text/html": [
       "13"
      ],
      "text/latex": [
       "13"
      ],
      "text/markdown": [
       "13"
      ],
      "text/plain": [
       "[1] 13"
      ]
     },
     "metadata": {},
     "output_type": "display_data"
    },
    {
     "data": {
      "text/html": [
       "-3"
      ],
      "text/latex": [
       "-3"
      ],
      "text/markdown": [
       "-3"
      ],
      "text/plain": [
       "[1] -3"
      ]
     },
     "metadata": {},
     "output_type": "display_data"
    },
    {
     "data": {
      "text/html": [
       "18"
      ],
      "text/latex": [
       "18"
      ],
      "text/markdown": [
       "18"
      ],
      "text/plain": [
       "[1] 18"
      ]
     },
     "metadata": {},
     "output_type": "display_data"
    },
    {
     "data": {
      "text/html": [
       "2"
      ],
      "text/latex": [
       "2"
      ],
      "text/markdown": [
       "2"
      ],
      "text/plain": [
       "[1] 2"
      ]
     },
     "metadata": {},
     "output_type": "display_data"
    },
    {
     "data": {
      "text/html": [
       "8"
      ],
      "text/latex": [
       "8"
      ],
      "text/markdown": [
       "8"
      ],
      "text/plain": [
       "[1] 8"
      ]
     },
     "metadata": {},
     "output_type": "display_data"
    },
    {
     "data": {
      "text/html": [
       "1"
      ],
      "text/latex": [
       "1"
      ],
      "text/markdown": [
       "1"
      ],
      "text/plain": [
       "[1] 1"
      ]
     },
     "metadata": {},
     "output_type": "display_data"
    },
    {
     "data": {
      "text/html": [
       "0"
      ],
      "text/latex": [
       "0"
      ],
      "text/markdown": [
       "0"
      ],
      "text/plain": [
       "[1] 0"
      ]
     },
     "metadata": {},
     "output_type": "display_data"
    },
    {
     "data": {
      "text/html": [
       "2"
      ],
      "text/latex": [
       "2"
      ],
      "text/markdown": [
       "2"
      ],
      "text/plain": [
       "[1] 2"
      ]
     },
     "metadata": {},
     "output_type": "display_data"
    },
    {
     "data": {
      "text/html": [
       "2.71828182845905"
      ],
      "text/latex": [
       "2.71828182845905"
      ],
      "text/markdown": [
       "2.71828182845905"
      ],
      "text/plain": [
       "[1] 2.718282"
      ]
     },
     "metadata": {},
     "output_type": "display_data"
    },
    {
     "data": {
      "text/html": [
       "0"
      ],
      "text/latex": [
       "0"
      ],
      "text/markdown": [
       "0"
      ],
      "text/plain": [
       "[1] 0"
      ]
     },
     "metadata": {},
     "output_type": "display_data"
    },
    {
     "data": {
      "text/html": [
       "1"
      ],
      "text/latex": [
       "1"
      ],
      "text/markdown": [
       "1"
      ],
      "text/plain": [
       "[1] 1"
      ]
     },
     "metadata": {},
     "output_type": "display_data"
    },
    {
     "data": {
      "text/html": [
       "1"
      ],
      "text/latex": [
       "1"
      ],
      "text/markdown": [
       "1"
      ],
      "text/plain": [
       "[1] 1"
      ]
     },
     "metadata": {},
     "output_type": "display_data"
    },
    {
     "data": {
      "text/html": [
       "-1.22464679914735e-16"
      ],
      "text/latex": [
       "-1.22464679914735e-16"
      ],
      "text/markdown": [
       "-1.22464679914735e-16"
      ],
      "text/plain": [
       "[1] -1.224647e-16"
      ]
     },
     "metadata": {},
     "output_type": "display_data"
    },
    {
     "data": {
      "text/html": [
       "1+5i"
      ],
      "text/latex": [
       "1+5i"
      ],
      "text/markdown": [
       "1+5i"
      ],
      "text/plain": [
       "[1] 1+5i"
      ]
     },
     "metadata": {},
     "output_type": "display_data"
    }
   ],
   "source": [
    "# operadores aritméticos y/o matemáticos\n",
    "\n",
    "# suma, resta\n",
    "5+8\n",
    "5-8\n",
    "# multiplicación, división\n",
    "6*3\n",
    "6/3\n",
    "# potenciación\n",
    "2^3\n",
    "# división entera (en lugar de devolver el cociente, nos devuelve el residuo)\n",
    "5%%2  \n",
    "4%%2\n",
    "# raiz cuadrada\n",
    "sqrt(4)\n",
    "# exponencial\n",
    "exp(1)\n",
    "# logaritmo neperiano\n",
    "log(1)\n",
    "# seno\n",
    "sin(pi/2)\n",
    "# coseno\n",
    "cos(0)\n",
    "# tangente\n",
    "tan(pi)\n",
    "# números complejos\n",
    "1 + 2i * 2 + 1i"
   ]
  },
  {
   "cell_type": "code",
   "execution_count": 71,
   "metadata": {
    "button": false,
    "new_sheet": false,
    "run_control": {
     "read_only": false
    }
   },
   "outputs": [
    {
     "data": {
      "text/html": [
       "TRUE"
      ],
      "text/latex": [
       "TRUE"
      ],
      "text/markdown": [
       "TRUE"
      ],
      "text/plain": [
       "[1] TRUE"
      ]
     },
     "metadata": {},
     "output_type": "display_data"
    },
    {
     "data": {
      "text/html": [
       "FALSE"
      ],
      "text/latex": [
       "FALSE"
      ],
      "text/markdown": [
       "FALSE"
      ],
      "text/plain": [
       "[1] FALSE"
      ]
     },
     "metadata": {},
     "output_type": "display_data"
    },
    {
     "data": {
      "text/html": [
       "FALSE"
      ],
      "text/latex": [
       "FALSE"
      ],
      "text/markdown": [
       "FALSE"
      ],
      "text/plain": [
       "[1] FALSE"
      ]
     },
     "metadata": {},
     "output_type": "display_data"
    },
    {
     "data": {
      "text/html": [
       "TRUE"
      ],
      "text/latex": [
       "TRUE"
      ],
      "text/markdown": [
       "TRUE"
      ],
      "text/plain": [
       "[1] TRUE"
      ]
     },
     "metadata": {},
     "output_type": "display_data"
    },
    {
     "data": {
      "text/html": [
       "TRUE"
      ],
      "text/latex": [
       "TRUE"
      ],
      "text/markdown": [
       "TRUE"
      ],
      "text/plain": [
       "[1] TRUE"
      ]
     },
     "metadata": {},
     "output_type": "display_data"
    }
   ],
   "source": [
    "# operadores lógicos\n",
    "5 > 4\n",
    "4 == 3\n",
    "FALSE && TRUE\n",
    "FALSE || TRUE\n",
    "! FALSE"
   ]
  },
  {
   "cell_type": "code",
   "execution_count": 7,
   "metadata": {
    "button": false,
    "new_sheet": false,
    "run_control": {
     "read_only": false
    }
   },
   "outputs": [
    {
     "data": {
      "text/html": [
       "'Hoy es lunes'"
      ],
      "text/latex": [
       "'Hoy es lunes'"
      ],
      "text/markdown": [
       "'Hoy es lunes'"
      ],
      "text/plain": [
       "[1] \"Hoy es lunes\""
      ]
     },
     "metadata": {},
     "output_type": "display_data"
    },
    {
     "data": {
      "text/html": [
       "<span style=white-space:pre-wrap>'Hoy  es  lunes'</span>"
      ],
      "text/latex": [
       "'Hoy  es  lunes'"
      ],
      "text/markdown": [
       "<span style=white-space:pre-wrap>'Hoy  es  lunes'</span>"
      ],
      "text/plain": [
       "[1] \"Hoy  es  lunes\""
      ]
     },
     "metadata": {},
     "output_type": "display_data"
    }
   ],
   "source": [
    "# concatenación cadenas de caracteres\n",
    "paste(\"Hoy\",\"es\",\"lunes\")"
   ]
  },
  {
   "cell_type": "code",
   "execution_count": 12,
   "metadata": {
    "button": false,
    "new_sheet": false,
    "run_control": {
     "read_only": false
    }
   },
   "outputs": [
    {
     "name": "stdout",
     "output_type": "stream",
     "text": [
      "[1] 3\n",
      "[1] 6\n",
      "[1] 7\n"
     ]
    }
   ],
   "source": [
    "# operador asignación\n",
    "objeto1 <- 3\n",
    "objeto2 = 6\n",
    "assign(\"objeto3\", 7)\n",
    "\n",
    "print(objeto1)\n",
    "print(objeto2)\n",
    "print(objeto3)"
   ]
  },
  {
   "cell_type": "code",
   "execution_count": 13,
   "metadata": {
    "button": false,
    "new_sheet": false,
    "run_control": {
     "read_only": false
    }
   },
   "outputs": [
    {
     "data": {
      "text/html": [
       "'character'"
      ],
      "text/latex": [
       "'character'"
      ],
      "text/markdown": [
       "'character'"
      ],
      "text/plain": [
       "[1] \"character\""
      ]
     },
     "metadata": {},
     "output_type": "display_data"
    },
    {
     "data": {
      "text/html": [
       "'double'"
      ],
      "text/latex": [
       "'double'"
      ],
      "text/markdown": [
       "'double'"
      ],
      "text/plain": [
       "[1] \"double\""
      ]
     },
     "metadata": {},
     "output_type": "display_data"
    },
    {
     "data": {
      "text/html": [
       "'integer'"
      ],
      "text/latex": [
       "'integer'"
      ],
      "text/markdown": [
       "'integer'"
      ],
      "text/plain": [
       "[1] \"integer\""
      ]
     },
     "metadata": {},
     "output_type": "display_data"
    },
    {
     "data": {
      "text/html": [
       "'complex'"
      ],
      "text/latex": [
       "'complex'"
      ],
      "text/markdown": [
       "'complex'"
      ],
      "text/plain": [
       "[1] \"complex\""
      ]
     },
     "metadata": {},
     "output_type": "display_data"
    },
    {
     "data": {
      "text/html": [
       "'logical'"
      ],
      "text/latex": [
       "'logical'"
      ],
      "text/markdown": [
       "'logical'"
      ],
      "text/plain": [
       "[1] \"logical\""
      ]
     },
     "metadata": {},
     "output_type": "display_data"
    }
   ],
   "source": [
    "# tipo de un objeto \n",
    "a <- \"Hola\"\n",
    "b <- 2\n",
    "c <- 2L\n",
    "d <- 2 + 1i\n",
    "e <- FALSE \n",
    "\n",
    "typeof(a)\n",
    "typeof(b)\n",
    "typeof(c)\n",
    "typeof(d)\n",
    "typeof(e)"
   ]
  },
  {
   "cell_type": "markdown",
   "metadata": {
    "button": false,
    "new_sheet": false,
    "run_control": {
     "read_only": false
    }
   },
   "source": [
    "### Vectores \n",
    "La estructura de datos más simple en R es el vector, que es una colección unidimensional ordenada de elementos. \n",
    "\n",
    "Tipos de vectores:\n",
    "+ numérico\n",
    "  + entero\n",
    "  + real\n",
    "  + complejo\n",
    "+ carácter \n",
    "+ lógico\n",
    "\n",
    "Un número, por ejemplo, sería un vector numérico de longitud uno.\n",
    "\n",
    "Las funciones más frecuentemente utilizadas para el manejo de vectores son `length()`, `rev()`, `sort()`"
   ]
  },
  {
   "cell_type": "code",
   "execution_count": 14,
   "metadata": {
    "button": false,
    "new_sheet": false,
    "run_control": {
     "read_only": false
    }
   },
   "outputs": [
    {
     "name": "stdout",
     "output_type": "stream",
     "text": [
      "[1] 1.1 2.2 3.3 4.4 5.5\n"
     ]
    },
    {
     "data": {
      "text/html": [
       "'numeric'"
      ],
      "text/latex": [
       "'numeric'"
      ],
      "text/markdown": [
       "'numeric'"
      ],
      "text/plain": [
       "[1] \"numeric\""
      ]
     },
     "metadata": {},
     "output_type": "display_data"
    }
   ],
   "source": [
    "# creación de un vector\n",
    "x <- c(1.1,2.2,3.3,4.4,5.5)\n",
    "print(x)\n",
    "class(x)"
   ]
  },
  {
   "cell_type": "code",
   "execution_count": 15,
   "metadata": {
    "button": false,
    "new_sheet": false,
    "run_control": {
     "read_only": false
    }
   },
   "outputs": [
    {
     "name": "stdout",
     "output_type": "stream",
     "text": [
      "[1] 0 0 0 0 0\n"
     ]
    },
    {
     "data": {
      "text/html": [
       "'numeric'"
      ],
      "text/latex": [
       "'numeric'"
      ],
      "text/markdown": [
       "'numeric'"
      ],
      "text/plain": [
       "[1] \"numeric\""
      ]
     },
     "metadata": {},
     "output_type": "display_data"
    },
    {
     "name": "stdout",
     "output_type": "stream",
     "text": [
      "[1] 0 0 0 0 0\n"
     ]
    },
    {
     "data": {
      "text/html": [
       "'numeric'"
      ],
      "text/latex": [
       "'numeric'"
      ],
      "text/markdown": [
       "'numeric'"
      ],
      "text/plain": [
       "[1] \"numeric\""
      ]
     },
     "metadata": {},
     "output_type": "display_data"
    }
   ],
   "source": [
    "# creación de un vector de ceros\n",
    "x <- numeric(length = 5)\n",
    "print(x)\n",
    "class(x)\n",
    "\n",
    "y <- rep(0, length = 5)\n",
    "print(y)\n",
    "class(y)"
   ]
  },
  {
   "cell_type": "code",
   "execution_count": 34,
   "metadata": {
    "button": false,
    "new_sheet": false,
    "run_control": {
     "read_only": false
    }
   },
   "outputs": [
    {
     "name": "stdout",
     "output_type": "stream",
     "text": [
      "[1] 1.0000000 0.5000000 0.3333333 0.2500000 0.2000000 0.2000000\n",
      "[1] 2 3 4 5 6 6\n",
      "[1]  2  4  6  8 10 10\n",
      "[1]  1  4  9 16 25 25\n"
     ]
    },
    {
     "data": {
      "text/html": [
       "<style>\n",
       ".list-inline {list-style: none; margin:0; padding: 0}\n",
       ".list-inline>li {display: inline-block}\n",
       ".list-inline>li:not(:last-child)::after {content: \"\\00b7\"; padding: 0 .5ex}\n",
       "</style>\n",
       "<ol class=list-inline><li>2.71828182845905</li><li>7.38905609893065</li><li>20.0855369231877</li><li>54.5981500331442</li><li>148.413159102577</li><li>148.413159102577</li></ol>\n"
      ],
      "text/latex": [
       "\\begin{enumerate*}\n",
       "\\item 2.71828182845905\n",
       "\\item 7.38905609893065\n",
       "\\item 20.0855369231877\n",
       "\\item 54.5981500331442\n",
       "\\item 148.413159102577\n",
       "\\item 148.413159102577\n",
       "\\end{enumerate*}\n"
      ],
      "text/markdown": [
       "1. 2.71828182845905\n",
       "2. 7.38905609893065\n",
       "3. 20.0855369231877\n",
       "4. 54.5981500331442\n",
       "5. 148.413159102577\n",
       "6. 148.413159102577\n",
       "\n",
       "\n"
      ],
      "text/plain": [
       "[1]   2.718282   7.389056  20.085537  54.598150 148.413159 148.413159"
      ]
     },
     "metadata": {},
     "output_type": "display_data"
    },
    {
     "data": {
      "text/html": [
       "<style>\n",
       ".list-inline {list-style: none; margin:0; padding: 0}\n",
       ".list-inline>li {display: inline-block}\n",
       ".list-inline>li:not(:last-child)::after {content: \"\\00b7\"; padding: 0 .5ex}\n",
       "</style>\n",
       "<ol class=list-inline><li>0</li><li>0.693147180559945</li><li>1.09861228866811</li><li>1.38629436111989</li><li>1.6094379124341</li><li>1.6094379124341</li></ol>\n"
      ],
      "text/latex": [
       "\\begin{enumerate*}\n",
       "\\item 0\n",
       "\\item 0.693147180559945\n",
       "\\item 1.09861228866811\n",
       "\\item 1.38629436111989\n",
       "\\item 1.6094379124341\n",
       "\\item 1.6094379124341\n",
       "\\end{enumerate*}\n"
      ],
      "text/markdown": [
       "1. 0\n",
       "2. 0.693147180559945\n",
       "3. 1.09861228866811\n",
       "4. 1.38629436111989\n",
       "5. 1.6094379124341\n",
       "6. 1.6094379124341\n",
       "\n",
       "\n"
      ],
      "text/plain": [
       "[1] 0.0000000 0.6931472 1.0986123 1.3862944 1.6094379 1.6094379"
      ]
     },
     "metadata": {},
     "output_type": "display_data"
    },
    {
     "data": {
      "text/html": [
       "<style>\n",
       ".list-inline {list-style: none; margin:0; padding: 0}\n",
       ".list-inline>li {display: inline-block}\n",
       ".list-inline>li:not(:last-child)::after {content: \"\\00b7\"; padding: 0 .5ex}\n",
       "</style>\n",
       "<ol class=list-inline><li>0.841470984807897</li><li>0.909297426825682</li><li>0.141120008059867</li><li>-0.756802495307928</li><li>-0.958924274663138</li><li>-0.958924274663138</li></ol>\n"
      ],
      "text/latex": [
       "\\begin{enumerate*}\n",
       "\\item 0.841470984807897\n",
       "\\item 0.909297426825682\n",
       "\\item 0.141120008059867\n",
       "\\item -0.756802495307928\n",
       "\\item -0.958924274663138\n",
       "\\item -0.958924274663138\n",
       "\\end{enumerate*}\n"
      ],
      "text/markdown": [
       "1. 0.841470984807897\n",
       "2. 0.909297426825682\n",
       "3. 0.141120008059867\n",
       "4. -0.756802495307928\n",
       "5. -0.958924274663138\n",
       "6. -0.958924274663138\n",
       "\n",
       "\n"
      ],
      "text/plain": [
       "[1]  0.8414710  0.9092974  0.1411200 -0.7568025 -0.9589243 -0.9589243"
      ]
     },
     "metadata": {},
     "output_type": "display_data"
    }
   ],
   "source": [
    "# en el caso de vectores, los operadores aritméticos y/o matemáticos operan a nivel de elemento\n",
    "x <- c(1,2,3,4,5,5)\n",
    "print(1 / x) # división\n",
    "print(x + 1) # suma\n",
    "print(2 * x) # multiplicación\n",
    "print(x^2) # potenciación\n",
    "exp(x) # exponencial\n",
    "log(x) # logaritmo neperiano\n",
    "sin(x) # seno"
   ]
  },
  {
   "cell_type": "code",
   "execution_count": 36,
   "metadata": {
    "button": false,
    "new_sheet": false,
    "run_control": {
     "read_only": false
    }
   },
   "outputs": [
    {
     "name": "stdout",
     "output_type": "stream",
     "text": [
      "[1] 6\n",
      "[1] 1\n",
      "[1] 21\n",
      "[1] 720\n"
     ]
    }
   ],
   "source": [
    "# max, min, sum, prod\n",
    "x <- c(1,2,3,4,5,6)\n",
    "\n",
    "print(max(x))\n",
    "print(min(x))\n",
    "print(sum(x))\n",
    "print(prod(x))"
   ]
  },
  {
   "cell_type": "code",
   "execution_count": 37,
   "metadata": {
    "button": false,
    "new_sheet": false,
    "run_control": {
     "read_only": false
    }
   },
   "outputs": [
    {
     "name": "stderr",
     "output_type": "stream",
     "text": [
      "Warning message in x + y:\n",
      "“longitud de objeto mayor no es múltiplo de la longitud de uno menor”"
     ]
    },
    {
     "name": "stdout",
     "output_type": "stream",
     "text": [
      "[1] 2 4 6 5 7\n"
     ]
    },
    {
     "name": "stderr",
     "output_type": "stream",
     "text": [
      "Warning message in x - y:\n",
      "“longitud de objeto mayor no es múltiplo de la longitud de uno menor”"
     ]
    },
    {
     "name": "stdout",
     "output_type": "stream",
     "text": [
      "[1] 0 0 0 3 3\n"
     ]
    },
    {
     "name": "stderr",
     "output_type": "stream",
     "text": [
      "Warning message in x * y:\n",
      "“longitud de objeto mayor no es múltiplo de la longitud de uno menor”"
     ]
    },
    {
     "name": "stdout",
     "output_type": "stream",
     "text": [
      "[1]  1  4  9  4 10\n"
     ]
    },
    {
     "name": "stderr",
     "output_type": "stream",
     "text": [
      "Warning message in x^y:\n",
      "“longitud de objeto mayor no es múltiplo de la longitud de uno menor”"
     ]
    },
    {
     "name": "stdout",
     "output_type": "stream",
     "text": [
      "[1]  1  4 27  4 25\n"
     ]
    }
   ],
   "source": [
    "# operaciones aritméticas entre dos vectores:  \n",
    "# el resultado será otro vector con longitud = longitud del vector más largo\n",
    "# el vector más corto será reciclado\n",
    "x <- c(1,2,3,4,5)\n",
    "y <- c(1,2,3)\n",
    "\n",
    "print(x + y)\n",
    "print(x - y)\n",
    "print(x*y)\n",
    "print(x^y)"
   ]
  },
  {
   "cell_type": "code",
   "execution_count": 40,
   "metadata": {
    "button": false,
    "new_sheet": false,
    "run_control": {
     "read_only": false
    }
   },
   "outputs": [
    {
     "name": "stdout",
     "output_type": "stream",
     "text": [
      "     [,1]\n",
      "[1,]   32\n"
     ]
    }
   ],
   "source": [
    "# si los dos vectores son de la misma longitud, el operador `%*%` devuelve el producto interno como un objeto de clase `matrix`\n",
    "x1 <- c(1,2,3)\n",
    "x2 <- c(4,5,6)\n",
    "mat.int <- x1 %*% x2\n",
    "\n",
    "print(mat.int)\n",
    "class(mat.int)  # clase 'matrix'\n",
    "typeof(mat.int)  # tipo `double'"
   ]
  },
  {
   "cell_type": "code",
   "execution_count": 81,
   "metadata": {},
   "outputs": [
    {
     "data": {
      "image/png": "[encoded data removed]",
      "text/plain": [
       "plot without title"
      ]
     },
     "metadata": {},
     "output_type": "display_data"
    }
   ],
   "source": [
    "# ordenar un vector\n",
    "va = runif(10)  # creo un vector de 10 números aleatorios (uniformemente distribuídos entre el 0 y el 1)\n",
    "vao = sort(va)  # vector ordenado de menor a mayor\n",
    "plot(vao, xlab = \"orden\", ylab = \"número aleatorio\")  # dibujo el vector"
   ]
  },
  {
   "cell_type": "code",
   "execution_count": 43,
   "metadata": {
    "button": false,
    "new_sheet": false,
    "run_control": {
     "read_only": false
    }
   },
   "outputs": [
    {
     "name": "stdout",
     "output_type": "stream",
     "text": [
      " [1]  1  2  3  4  5  6  7  8  9 10\n",
      "[1]  0  2  4  6  8 10\n",
      "[1] 10  8  6  4  2  0\n"
     ]
    }
   ],
   "source": [
    "# secuencias\n",
    "seq1 <- 1:10 \n",
    "seq2 <- seq(0, 10, by = 2) \n",
    "seq3 <- seq(10, 0, by = -2) \n",
    "\n",
    "print(seq1)\n",
    "print(seq2)\n",
    "print(seq3)"
   ]
  },
  {
   "cell_type": "markdown",
   "metadata": {
    "button": false,
    "new_sheet": false,
    "run_control": {
     "read_only": false
    }
   },
   "source": [
    "**Ejercicio**\n",
    "\n",
    "Crea con las funciones `rep()` and `seq()` el siguiente vector: 11, 11, 11, 1, 2, 3, 4, 5, 7, 9, 11"
   ]
  },
  {
   "cell_type": "code",
   "execution_count": 45,
   "metadata": {
    "button": false,
    "new_sheet": false,
    "run_control": {
     "read_only": false
    }
   },
   "outputs": [
    {
     "data": {
      "text/html": [
       "<style>\n",
       ".list-inline {list-style: none; margin:0; padding: 0}\n",
       ".list-inline>li {display: inline-block}\n",
       ".list-inline>li:not(:last-child)::after {content: \"\\00b7\"; padding: 0 .5ex}\n",
       "</style>\n",
       "<ol class=list-inline><li>11</li><li>11</li><li>11</li><li>1</li><li>2</li><li>3</li><li>4</li><li>5</li><li>7</li><li>9</li><li>11</li></ol>\n"
      ],
      "text/latex": [
       "\\begin{enumerate*}\n",
       "\\item 11\n",
       "\\item 11\n",
       "\\item 11\n",
       "\\item 1\n",
       "\\item 2\n",
       "\\item 3\n",
       "\\item 4\n",
       "\\item 5\n",
       "\\item 7\n",
       "\\item 9\n",
       "\\item 11\n",
       "\\end{enumerate*}\n"
      ],
      "text/markdown": [
       "1. 11\n",
       "2. 11\n",
       "3. 11\n",
       "4. 1\n",
       "5. 2\n",
       "6. 3\n",
       "7. 4\n",
       "8. 5\n",
       "9. 7\n",
       "10. 9\n",
       "11. 11\n",
       "\n",
       "\n"
      ],
      "text/plain": [
       " [1] 11 11 11  1  2  3  4  5  7  9 11"
      ]
     },
     "metadata": {},
     "output_type": "display_data"
    }
   ],
   "source": [
    "# solución"
   ]
  },
  {
   "cell_type": "code",
   "execution_count": 46,
   "metadata": {
    "button": false,
    "new_sheet": false,
    "run_control": {
     "read_only": false
    }
   },
   "outputs": [],
   "source": [
    "# vector lógico\n",
    "logi <- c(FALSE, TRUE)\n",
    "\n",
    "# vector de caracteres (o strings)\n",
    "char <- c(\"Hola\",\"que\",\"tal\")"
   ]
  },
  {
   "cell_type": "markdown",
   "metadata": {
    "button": false,
    "new_sheet": false,
    "run_control": {
     "read_only": false
    }
   },
   "source": [
    "**¡Un vector sólamente puede contener un tipo atómico!** Cuando se combinan dos tipos atómicos en un único vector, R convertirá automáticamente uno de ellos al tipo del otro."
   ]
  },
  {
   "cell_type": "code",
   "execution_count": 52,
   "metadata": {
    "button": false,
    "new_sheet": false,
    "run_control": {
     "read_only": false
    }
   },
   "outputs": [
    {
     "data": {
      "text/html": [
       "'character'"
      ],
      "text/latex": [
       "'character'"
      ],
      "text/markdown": [
       "'character'"
      ],
      "text/plain": [
       "[1] \"character\""
      ]
     },
     "metadata": {},
     "output_type": "display_data"
    },
    {
     "data": {
      "text/html": [
       "'character'"
      ],
      "text/latex": [
       "'character'"
      ],
      "text/markdown": [
       "'character'"
      ],
      "text/plain": [
       "[1] \"character\""
      ]
     },
     "metadata": {},
     "output_type": "display_data"
    },
    {
     "data": {
      "text/html": [
       "'double'"
      ],
      "text/latex": [
       "'double'"
      ],
      "text/markdown": [
       "'double'"
      ],
      "text/plain": [
       "[1] \"double\""
      ]
     },
     "metadata": {},
     "output_type": "display_data"
    }
   ],
   "source": [
    "typeof(c(2, \"Hola\"))\n",
    "typeof(c(FALSE, \"Hola\"))\n",
    "typeof(c(FALSE, 2))"
   ]
  },
  {
   "cell_type": "markdown",
   "metadata": {
    "button": false,
    "new_sheet": false,
    "run_control": {
     "read_only": false
    }
   },
   "source": [
    "Se puede comprobar de qué tipo es un vector dado con las funciones `is.character()`, `is.numeric()`, `is.integer()`... Se puede convertir el tipo de un vector a otro tipo con las funciones `as.character()`, `as.integer()`..."
   ]
  },
  {
   "cell_type": "code",
   "execution_count": 55,
   "metadata": {
    "button": false,
    "new_sheet": false,
    "run_control": {
     "read_only": false
    }
   },
   "outputs": [
    {
     "name": "stdout",
     "output_type": "stream",
     "text": [
      "[1] 1 2 3\n",
      "[1] \"1.1\" \"2.2\" \"3.3\"\n"
     ]
    },
    {
     "data": {
      "text/html": [
       "TRUE"
      ],
      "text/latex": [
       "TRUE"
      ],
      "text/markdown": [
       "TRUE"
      ],
      "text/plain": [
       "[1] TRUE"
      ]
     },
     "metadata": {},
     "output_type": "display_data"
    }
   ],
   "source": [
    "r <- c(1.1,2.2,3.3)\n",
    "\n",
    "print(as.integer(r))\n",
    "print(as.character(r))\n",
    "\n",
    "is.character(as.character(r))"
   ]
  },
  {
   "cell_type": "markdown",
   "metadata": {
    "button": false,
    "new_sheet": false,
    "run_control": {
     "read_only": false
    }
   },
   "source": [
    "**Ejercicio**  \n",
    "\n",
    "Crea un vector 'v' que contenga una secuencia de enteros desde el 3 hasta el 10. Convierte 'v' a un vector de tipo caracter y comprueba de qué tipo es el vector resultante"
   ]
  },
  {
   "cell_type": "code",
   "execution_count": 58,
   "metadata": {
    "button": false,
    "new_sheet": false,
    "run_control": {
     "read_only": false
    }
   },
   "outputs": [],
   "source": [
    "# solución"
   ]
  },
  {
   "cell_type": "code",
   "execution_count": 64,
   "metadata": {},
   "outputs": [
    {
     "name": "stdout",
     "output_type": "stream",
     "text": [
      "[1] 10 11\n",
      "[1] 10 15\n",
      "[1] 10 11 13 15\n"
     ]
    }
   ],
   "source": [
    "# selección de subvectores (mediante corchetes `[]`)\n",
    "x <- 10:15\n",
    "\n",
    "print(x[1:2]) # selecciono los dos primeros elementos de x\n",
    "print(x[c(1, length(x))]) # selecciono el primer y último elemento de x\n",
    "print(x[-c(3, 5)]) # excluyo el tercer y quinto elementos"
   ]
  },
  {
   "cell_type": "code",
   "execution_count": 63,
   "metadata": {
    "button": false,
    "new_sheet": false,
    "run_control": {
     "read_only": false
    }
   },
   "outputs": [
    {
     "name": "stdout",
     "output_type": "stream",
     "text": [
      " [1]  1  2  3  4  5  6  7  8  9 10\n",
      " [1] FALSE FALSE FALSE FALSE FALSE  TRUE  TRUE  TRUE  TRUE  TRUE\n",
      "[1]  6  7  8  9 10\n",
      " [1] FALSE  TRUE FALSE  TRUE FALSE  TRUE FALSE  TRUE FALSE  TRUE\n",
      "[1]  2  4  6  8 10\n"
     ]
    }
   ],
   "source": [
    "# selección de subvectores (mediante índices lógicos)\n",
    "x <- 1:10\n",
    "print(x)\n",
    "\n",
    "# construcción de un vector lógico que indica qué elementos de x son mayores que 5 \n",
    "y <- x > 5\n",
    "print(y)\n",
    "print(x[y])\n",
    "\n",
    "# construcción de un vector lógico que indica qué elementos de x son par\n",
    "z <- x %% 2 == 0\n",
    "print(z)\n",
    "# extraigo esos valores\n",
    "print(x[z])"
   ]
  },
  {
   "cell_type": "markdown",
   "metadata": {
    "button": false,
    "new_sheet": false,
    "run_control": {
     "read_only": false
    }
   },
   "source": [
    "**Ejercicio** \n",
    "\n",
    "Crea un vector de caracteres con los nombres de 5 personas. \n",
    "Crea un subvector con las personas 2 y 4.\n",
    "Ordena los nombres de tus amigos en orden alfabético inverso."
   ]
  },
  {
   "cell_type": "code",
   "execution_count": 67,
   "metadata": {
    "button": false,
    "new_sheet": false,
    "run_control": {
     "read_only": false
    }
   },
   "outputs": [],
   "source": [
    "# solución"
   ]
  },
  {
   "cell_type": "markdown",
   "metadata": {
    "button": false,
    "new_sheet": false,
    "run_control": {
     "read_only": false
    }
   },
   "source": [
    "Los *missing values* se indican mediante `NA` (Not Available) o `NaN` (Not A Number). `NaN` caracteriza un valor que sale de una indeterminación matemática, por ejemplo 0/0. Los `NA` se pueden detectar con la función `is.na()`"
   ]
  },
  {
   "cell_type": "code",
   "execution_count": 89,
   "metadata": {
    "button": false,
    "new_sheet": false,
    "run_control": {
     "read_only": false
    }
   },
   "outputs": [],
   "source": [
    "# elimina los missing values del siguiente valor\n",
    "x <- c(-1, -2, 1, 2, NA, 4, NA, log(pi), NA, 5, -6, -9, NA, NA)\n",
    "\n",
    "# solución"
   ]
  },
  {
   "cell_type": "code",
   "execution_count": 90,
   "metadata": {
    "button": false,
    "new_sheet": false,
    "run_control": {
     "read_only": false
    }
   },
   "outputs": [],
   "source": [
    "# crea un nuevo vector que sólo contega los valore positivos de x (sin missing values)\n",
    "x <- c(-5,-4,-3,-2,-1, NA, 1, 2, NA, 4,5)\n",
    "\n",
    "# solución"
   ]
  },
  {
   "cell_type": "markdown",
   "metadata": {
    "button": false,
    "new_sheet": false,
    "run_control": {
     "read_only": false
    }
   },
   "source": [
    "### Matrices"
   ]
  },
  {
   "cell_type": "markdown",
   "metadata": {
    "button": false,
    "new_sheet": false,
    "run_control": {
     "read_only": false
    }
   },
   "source": [
    "Las matrices son generalizaciones bidimensionales (fila-columna) de los vectores:\n",
    "* Se pueden crear con la función `matrix()`\n",
    "* Llevan por defecto el atributo `dim`, al cual se puede acceder con las función `attributes()`\n",
    "* Se pueden añadir otros atributos: `names`, `row.names`, `col.names`... \n",
    "\n",
    "Funciones utilizadas frecuentemente para el manejo de matrices:\n",
    "`t()`, `diag()`, `det()`, `inv()`"
   ]
  },
  {
   "cell_type": "markdown",
   "metadata": {
    "button": false,
    "new_sheet": false,
    "run_control": {
     "read_only": false
    }
   },
   "source": [
    "**Ejercicio**\n",
    "\n",
    "Utiliza las funciones `t()`, `diag()`,  `det()`, `inv()` con la matriz que se proporciona a continuación (objeto `mat`). ¿Qué hace cada una de estas funciones?"
   ]
  },
  {
   "cell_type": "code",
   "execution_count": 205,
   "metadata": {
    "button": false,
    "new_sheet": false,
    "run_control": {
     "read_only": false
    }
   },
   "outputs": [],
   "source": [
    "mat <- matrix(1:9, ncol = 3)\n",
    "\n",
    "# solución"
   ]
  },
  {
   "cell_type": "code",
   "execution_count": 98,
   "metadata": {
    "button": false,
    "new_sheet": false,
    "run_control": {
     "read_only": false
    }
   },
   "outputs": [
    {
     "name": "stdout",
     "output_type": "stream",
     "text": [
      "     [,1] [,2] [,3]\n",
      "[1,]   NA   NA   NA\n",
      "[2,]   NA   NA   NA\n"
     ]
    },
    {
     "data": {
      "text/html": [
       "<style>\n",
       ".list-inline {list-style: none; margin:0; padding: 0}\n",
       ".list-inline>li {display: inline-block}\n",
       ".list-inline>li:not(:last-child)::after {content: \"\\00b7\"; padding: 0 .5ex}\n",
       "</style>\n",
       "<ol class=list-inline><li>2</li><li>3</li></ol>\n"
      ],
      "text/latex": [
       "\\begin{enumerate*}\n",
       "\\item 2\n",
       "\\item 3\n",
       "\\end{enumerate*}\n"
      ],
      "text/markdown": [
       "1. 2\n",
       "2. 3\n",
       "\n",
       "\n"
      ],
      "text/plain": [
       "[1] 2 3"
      ]
     },
     "metadata": {},
     "output_type": "display_data"
    }
   ],
   "source": [
    "# crear una matriz vacía de 2x3 \n",
    "m1 <- matrix(nrow = 2, ncol = 3)\n",
    "\n",
    "print(m1)\n",
    "dim(m1)"
   ]
  },
  {
   "cell_type": "code",
   "execution_count": 100,
   "metadata": {
    "button": false,
    "new_sheet": false,
    "run_control": {
     "read_only": false
    }
   },
   "outputs": [
    {
     "name": "stdout",
     "output_type": "stream",
     "text": [
      "     [,1] [,2] [,3]\n",
      "[1,]    1    2    3\n",
      "[2,]    4    5    6\n",
      " int [1:2, 1:3] 1 4 2 5 3 6\n",
      "     [,1] [,2] [,3]\n",
      "[1,]    1    3    5\n",
      "[2,]    2    4    6\n",
      " int [1:2, 1:3] 1 2 3 4 5 6\n"
     ]
    }
   ],
   "source": [
    "# crear una matriz numérica\n",
    "m2 <- matrix(1:6, nrow = 2, ncol = 3, byrow = TRUE)\n",
    "\n",
    "print(m2)\n",
    "str(m2)"
   ]
  },
  {
   "cell_type": "code",
   "execution_count": 101,
   "metadata": {
    "button": false,
    "new_sheet": false,
    "run_control": {
     "read_only": false
    }
   },
   "outputs": [
    {
     "name": "stdout",
     "output_type": "stream",
     "text": [
      "     [,1] [,2] [,3] [,4] [,5]\n",
      "[1,]    1    3    5    7    9\n",
      "[2,]    2    4    6    8   10\n"
     ]
    },
    {
     "data": {
      "text/html": [
       "'matrix'"
      ],
      "text/latex": [
       "'matrix'"
      ],
      "text/markdown": [
       "'matrix'"
      ],
      "text/plain": [
       "[1] \"matrix\""
      ]
     },
     "metadata": {},
     "output_type": "display_data"
    }
   ],
   "source": [
    "# crear una matriz a partir de un vector\n",
    "m3 <- 1:10\n",
    "\n",
    "dim(m3) <- c(2,5) # establezco dimensiones: 2 filas, 5 columnas\n",
    "print(m3)\n",
    "class(m3)"
   ]
  },
  {
   "cell_type": "code",
   "execution_count": 102,
   "metadata": {
    "button": false,
    "new_sheet": false,
    "run_control": {
     "read_only": false
    }
   },
   "outputs": [
    {
     "name": "stdout",
     "output_type": "stream",
     "text": [
      "     x  y\n",
      "[1,] 1 10\n",
      "[2,] 2 11\n",
      "[3,] 3 12\n",
      "  [,1] [,2] [,3]\n",
      "x    1    2    3\n",
      "y   10   11   12\n"
     ]
    }
   ],
   "source": [
    "# crear una matriz por concatenación de vectores de igual longitud\n",
    "x <- 1:3\n",
    "y <- 10:12\n",
    "\n",
    "# por columnas: `cbind()`\n",
    "z1 <- cbind(x,y)\n",
    "print(z1)\n",
    "\n",
    "# por filas: `rbind()`\n",
    "z2 <- rbind(x,y)\n",
    "print(z2)"
   ]
  },
  {
   "cell_type": "code",
   "execution_count": 121,
   "metadata": {},
   "outputs": [
    {
     "name": "stdout",
     "output_type": "stream",
     "text": [
      "     col1 col2 col3\n",
      "row1    1    2    3\n",
      "row2   10   11   12\n"
     ]
    },
    {
     "data": {
      "text/html": [
       "<style>\n",
       ".dl-inline {width: auto; margin:0; padding: 0}\n",
       ".dl-inline>dt, .dl-inline>dd {float: none; width: auto; display: inline-block}\n",
       ".dl-inline>dt::after {content: \":\\0020\"; padding-right: .5ex}\n",
       ".dl-inline>dt:not(:first-of-type) {padding-left: .5ex}\n",
       "</style><dl class=dl-inline><dt>col1</dt><dd>10</dd><dt>col2</dt><dd>11</dd><dt>col3</dt><dd>12</dd></dl>\n"
      ],
      "text/latex": [
       "\\begin{description*}\n",
       "\\item[col1] 10\n",
       "\\item[col2] 11\n",
       "\\item[col3] 12\n",
       "\\end{description*}\n"
      ],
      "text/markdown": [
       "col1\n",
       ":   10col2\n",
       ":   11col3\n",
       ":   12\n",
       "\n"
      ],
      "text/plain": [
       "col1 col2 col3 \n",
       "  10   11   12 "
      ]
     },
     "metadata": {},
     "output_type": "display_data"
    },
    {
     "data": {
      "text/html": [
       "12"
      ],
      "text/latex": [
       "12"
      ],
      "text/markdown": [
       "12"
      ],
      "text/plain": [
       "[1] 12"
      ]
     },
     "metadata": {},
     "output_type": "display_data"
    }
   ],
   "source": [
    "# asignación de etiquetas a las filas y columnas de una matriz\n",
    "rownames(z2) = c(\"row1\", \"row2\")\n",
    "colnames(z2) = c(\"col1\", \"col2\", \"col3\")\n",
    "print(z2)"
   ]
  },
  {
   "cell_type": "code",
   "execution_count": 108,
   "metadata": {
    "button": false,
    "new_sheet": false,
    "run_control": {
     "read_only": false
    }
   },
   "outputs": [
    {
     "name": "stdout",
     "output_type": "stream",
     "text": [
      "     [,1] [,2]\n",
      "[1,]    3    4\n",
      "[2,]    5    6\n"
     ]
    }
   ],
   "source": [
    "# suma elemento a elemento \n",
    "M <- matrix(c(1,2,3,4), nrow = 2, byrow = TRUE)\n",
    "print(M+2)"
   ]
  },
  {
   "cell_type": "markdown",
   "metadata": {
    "button": false,
    "new_sheet": false,
    "run_control": {
     "read_only": false
    }
   },
   "source": [
    "Si a una matriz se le suma un vector cuya longitud sea igual al número de filas de la matriz, se obtiene como resultado una nueva matriz cuyas columnas son la suma de las columnas de la matriz original más dicho vector."
   ]
  },
  {
   "cell_type": "code",
   "execution_count": 109,
   "metadata": {
    "button": false,
    "new_sheet": false,
    "run_control": {
     "read_only": false
    }
   },
   "outputs": [
    {
     "name": "stdout",
     "output_type": "stream",
     "text": [
      "     [,1] [,2]\n",
      "[1,]    4    5\n",
      "[2,]    7    8\n"
     ]
    }
   ],
   "source": [
    "v <- c(3,4)\n",
    "print(M+v)"
   ]
  },
  {
   "cell_type": "markdown",
   "metadata": {
    "button": false,
    "new_sheet": false,
    "run_control": {
     "read_only": false
    }
   },
   "source": [
    "La suma o resta de matrices de la misma dimensión se realiza con los operadores `+` y `-`."
   ]
  },
  {
   "cell_type": "code",
   "execution_count": 110,
   "metadata": {
    "button": false,
    "new_sheet": false,
    "run_control": {
     "read_only": false
    }
   },
   "outputs": [
    {
     "name": "stdout",
     "output_type": "stream",
     "text": [
      "     [,1] [,2]\n",
      "[1,]    2    4\n",
      "[2,]    6    8\n",
      "     [,1] [,2]\n",
      "[1,]    0    0\n",
      "[2,]    0    0\n"
     ]
    }
   ],
   "source": [
    "print(M+M)\n",
    "print(M-M)"
   ]
  },
  {
   "cell_type": "markdown",
   "metadata": {
    "button": false,
    "new_sheet": false,
    "run_control": {
     "read_only": false
    }
   },
   "source": [
    "El producto de matrices (siempre que sean compatibles) se realiza con el símbolo `%*%`. El símbolo `*` denota el producto elemento a elemento."
   ]
  },
  {
   "cell_type": "code",
   "execution_count": 111,
   "metadata": {
    "button": false,
    "new_sheet": false,
    "run_control": {
     "read_only": false
    }
   },
   "outputs": [
    {
     "name": "stdout",
     "output_type": "stream",
     "text": [
      "     [,1] [,2]\n",
      "[1,]    7   10\n",
      "[2,]   15   22\n",
      "     [,1] [,2]\n",
      "[1,]    1    4\n",
      "[2,]    9   16\n"
     ]
    }
   ],
   "source": [
    "print(M%*%M)  # multiplicación de matrices\n",
    "print(M*M)    # multiplicación elemento a elemento"
   ]
  },
  {
   "cell_type": "code",
   "execution_count": 112,
   "metadata": {
    "button": false,
    "new_sheet": false,
    "run_control": {
     "read_only": false
    }
   },
   "outputs": [
    {
     "name": "stdout",
     "output_type": "stream",
     "text": [
      "     [,1] [,2] [,3]\n",
      "[1,]    1    2    3\n",
      "[2,]    4    5    6\n",
      "[3,]    7    8    9\n"
     ]
    },
    {
     "data": {
      "text/html": [
       "6"
      ],
      "text/latex": [
       "6"
      ],
      "text/markdown": [
       "6"
      ],
      "text/plain": [
       "[1] 6"
      ]
     },
     "metadata": {},
     "output_type": "display_data"
    },
    {
     "data": {
      "text/html": [
       "<style>\n",
       ".list-inline {list-style: none; margin:0; padding: 0}\n",
       ".list-inline>li {display: inline-block}\n",
       ".list-inline>li:not(:last-child)::after {content: \"\\00b7\"; padding: 0 .5ex}\n",
       "</style>\n",
       "<ol class=list-inline><li>4</li><li>5</li><li>6</li></ol>\n"
      ],
      "text/latex": [
       "\\begin{enumerate*}\n",
       "\\item 4\n",
       "\\item 5\n",
       "\\item 6\n",
       "\\end{enumerate*}\n"
      ],
      "text/markdown": [
       "1. 4\n",
       "2. 5\n",
       "3. 6\n",
       "\n",
       "\n"
      ],
      "text/plain": [
       "[1] 4 5 6"
      ]
     },
     "metadata": {},
     "output_type": "display_data"
    },
    {
     "data": {
      "text/html": [
       "<style>\n",
       ".list-inline {list-style: none; margin:0; padding: 0}\n",
       ".list-inline>li {display: inline-block}\n",
       ".list-inline>li:not(:last-child)::after {content: \"\\00b7\"; padding: 0 .5ex}\n",
       "</style>\n",
       "<ol class=list-inline><li>3</li><li>6</li><li>9</li></ol>\n"
      ],
      "text/latex": [
       "\\begin{enumerate*}\n",
       "\\item 3\n",
       "\\item 6\n",
       "\\item 9\n",
       "\\end{enumerate*}\n"
      ],
      "text/markdown": [
       "1. 3\n",
       "2. 6\n",
       "3. 9\n",
       "\n",
       "\n"
      ],
      "text/plain": [
       "[1] 3 6 9"
      ]
     },
     "metadata": {},
     "output_type": "display_data"
    },
    {
     "data": {
      "text/html": [
       "<style>\n",
       ".list-inline {list-style: none; margin:0; padding: 0}\n",
       ".list-inline>li {display: inline-block}\n",
       ".list-inline>li:not(:last-child)::after {content: \"\\00b7\"; padding: 0 .5ex}\n",
       "</style>\n",
       "<ol class=list-inline><li>2</li><li>3</li></ol>\n"
      ],
      "text/latex": [
       "\\begin{enumerate*}\n",
       "\\item 2\n",
       "\\item 3\n",
       "\\end{enumerate*}\n"
      ],
      "text/markdown": [
       "1. 2\n",
       "2. 3\n",
       "\n",
       "\n"
      ],
      "text/plain": [
       "[1] 2 3"
      ]
     },
     "metadata": {},
     "output_type": "display_data"
    }
   ],
   "source": [
    "# selección de submatrices (mediante índices)\n",
    "m <- matrix(1:9, nrow = 3, ncol = 3, byrow = TRUE)\n",
    "print(m)\n",
    "\n",
    "m[2, 3] # fila 2, columna 3\n",
    "m[2, ] # fila 2 completa\n",
    "m[ ,3]  # columna 3 completa\n",
    "m[1, 2:3] # segundo y tercer elementos de la primera fila"
   ]
  },
  {
   "cell_type": "markdown",
   "metadata": {
    "button": false,
    "new_sheet": false,
    "run_control": {
     "read_only": false
    }
   },
   "source": [
    "**Ejercicio**\n",
    "\n",
    "* Crea un vector con 12 enteros \n",
    "* Convierte el vector a una matriz de tamaño 4x3\n",
    "* Llama a las columnas de dicha matriz `x`, `y`, `z` y a las filas `a`, `b`, `c`, `d`.  \n",
    "* Extrae la submatriz 3x3 formada por las tres últimas filas (`b`, `c`, `d`)"
   ]
  },
  {
   "cell_type": "code",
   "execution_count": 124,
   "metadata": {
    "button": false,
    "new_sheet": false,
    "run_control": {
     "read_only": false
    }
   },
   "outputs": [
    {
     "data": {
      "text/html": [
       "<table>\n",
       "<caption>A matrix: 3 × 3 of type int</caption>\n",
       "<thead>\n",
       "\t<tr><th></th><th scope=col>x</th><th scope=col>y</th><th scope=col>z</th></tr>\n",
       "</thead>\n",
       "<tbody>\n",
       "\t<tr><th scope=row>b</th><td>2</td><td>6</td><td>10</td></tr>\n",
       "\t<tr><th scope=row>c</th><td>3</td><td>7</td><td>11</td></tr>\n",
       "\t<tr><th scope=row>d</th><td>4</td><td>8</td><td>12</td></tr>\n",
       "</tbody>\n",
       "</table>\n"
      ],
      "text/latex": [
       "A matrix: 3 × 3 of type int\n",
       "\\begin{tabular}{r|lll}\n",
       "  & x & y & z\\\\\n",
       "\\hline\n",
       "\tb & 2 & 6 & 10\\\\\n",
       "\tc & 3 & 7 & 11\\\\\n",
       "\td & 4 & 8 & 12\\\\\n",
       "\\end{tabular}\n"
      ],
      "text/markdown": [
       "\n",
       "A matrix: 3 × 3 of type int\n",
       "\n",
       "| <!--/--> | x | y | z |\n",
       "|---|---|---|---|\n",
       "| b | 2 | 6 | 10 |\n",
       "| c | 3 | 7 | 11 |\n",
       "| d | 4 | 8 | 12 |\n",
       "\n"
      ],
      "text/plain": [
       "  x y z \n",
       "b 2 6 10\n",
       "c 3 7 11\n",
       "d 4 8 12"
      ]
     },
     "metadata": {},
     "output_type": "display_data"
    }
   ],
   "source": [
    "# solución"
   ]
  },
  {
   "cell_type": "code",
   "execution_count": 125,
   "metadata": {
    "button": false,
    "new_sheet": false,
    "run_control": {
     "read_only": false
    }
   },
   "outputs": [
    {
     "name": "stdout",
     "output_type": "stream",
     "text": [
      "     [,1] [,2] [,3]\n",
      "[1,]    1    2    3\n",
      "[2,]    4    5    6\n",
      "[3,]    7    8    9\n",
      "     [,1] [,2] [,3]\n",
      "[1,]    1    0    3\n",
      "[2,]    0    5    0\n",
      "[3,]    7    0    9\n"
     ]
    }
   ],
   "source": [
    "# selección de submatrices (mediante vectores lógicos)\n",
    "m <- matrix(1:9, nrow = 3, ncol = 3, byrow = TRUE)\n",
    "\n",
    "m[m%%2 == 0] <- 0  \n",
    "print(m)"
   ]
  },
  {
   "cell_type": "code",
   "execution_count": 127,
   "metadata": {
    "button": false,
    "new_sheet": false,
    "run_control": {
     "read_only": false
    }
   },
   "outputs": [
    {
     "name": "stdout",
     "output_type": "stream",
     "text": [
      "[1] 2 4 6 8\n",
      "     [,1] [,2] [,3]\n",
      "[1,]    1    0    3\n",
      "[2,]    0    5    0\n",
      "[3,]    7    0    9\n"
     ]
    }
   ],
   "source": [
    "m <- matrix(1:9, nrow = 3, ncol = 3, byrow = TRUE)\n",
    "\n",
    "ind <- which(m%%2 == 0) # devuelve los índices de los elementos par\n",
    "print(ind)\n",
    "\n",
    "m[ind] <- 0 # convierte los elementos de los índices indicados a 0\n",
    "print(m)"
   ]
  },
  {
   "cell_type": "markdown",
   "metadata": {
    "button": false,
    "new_sheet": false,
    "run_control": {
     "read_only": false
    }
   },
   "source": [
    "### Arrays\n",
    "Un array es una colección de datos (por ejemplo numéricos) indexados. En otras palabras, los arryas son generalizaciones multi-dimensionales (en 3 o más dimensiones) de los vectores."
   ]
  },
  {
   "cell_type": "code",
   "execution_count": 129,
   "metadata": {
    "button": false,
    "new_sheet": false,
    "run_control": {
     "read_only": false
    }
   },
   "outputs": [
    {
     "name": "stdout",
     "output_type": "stream",
     "text": [
      ", , 1\n",
      "\n",
      "     [,1] [,2] [,3]\n",
      "[1,]    1    3    5\n",
      "[2,]    2    4    6\n",
      "\n",
      ", , 2\n",
      "\n",
      "     [,1] [,2] [,3]\n",
      "[1,]    7    9   11\n",
      "[2,]    8   10   12\n",
      "\n",
      ", , 3\n",
      "\n",
      "     [,1] [,2] [,3]\n",
      "[1,]   13   15   17\n",
      "[2,]   14   16   18\n",
      "\n",
      ", , 4\n",
      "\n",
      "     [,1] [,2] [,3]\n",
      "[1,]   19   21   23\n",
      "[2,]   20   22   24\n",
      "\n"
     ]
    },
    {
     "data": {
      "text/html": [
       "'array'"
      ],
      "text/latex": [
       "'array'"
      ],
      "text/markdown": [
       "'array'"
      ],
      "text/plain": [
       "[1] \"array\""
      ]
     },
     "metadata": {},
     "output_type": "display_data"
    },
    {
     "name": "stdout",
     "output_type": "stream",
     "text": [
      "[1] 2 3 4\n",
      ", , 1\n",
      "\n",
      "     [,1] [,2] [,3]\n",
      "[1,]    1    3    5\n",
      "[2,]    2    4    6\n",
      "\n",
      ", , 2\n",
      "\n",
      "     [,1] [,2] [,3]\n",
      "[1,]    7    9   11\n",
      "[2,]    8   10   12\n",
      "\n",
      ", , 3\n",
      "\n",
      "     [,1] [,2] [,3]\n",
      "[1,]   13   15   17\n",
      "[2,]   14   16   18\n",
      "\n",
      ", , 4\n",
      "\n",
      "     [,1] [,2] [,3]\n",
      "[1,]   19   21   23\n",
      "[2,]   20   22   24\n",
      "\n"
     ]
    },
    {
     "data": {
      "text/html": [
       "'array'"
      ],
      "text/latex": [
       "'array'"
      ],
      "text/markdown": [
       "'array'"
      ],
      "text/plain": [
       "[1] \"array\""
      ]
     },
     "metadata": {},
     "output_type": "display_data"
    },
    {
     "name": "stdout",
     "output_type": "stream",
     "text": [
      "[1] 2 3 4\n"
     ]
    }
   ],
   "source": [
    "# creación de un array\n",
    "\n",
    "# mediante `array`\n",
    "a <- array(1:24, dim = c(2,3,4))\n",
    "print(a)\n",
    "class(a)\n",
    "print(dim(a))\n",
    "\n",
    "# mediante `dim`\n",
    "x <- c(1:24)\n",
    "dim(x) <- c(2,3,4) \n",
    "print(x)\n",
    "class(x)\n",
    "print(dim(x))"
   ]
  },
  {
   "cell_type": "code",
   "execution_count": 132,
   "metadata": {
    "button": false,
    "new_sheet": false,
    "run_control": {
     "read_only": false
    }
   },
   "outputs": [
    {
     "name": "stdout",
     "output_type": "stream",
     "text": [
      "[1] 1\n",
      "     [,1] [,2] [,3]\n",
      "[1,]    1    3    5\n",
      "[2,]    2    4    6\n",
      "[1] 3 4\n"
     ]
    }
   ],
   "source": [
    "# selección de subarrays (mediante índices)\n",
    "print(x[1,1,1]) # \"aplano\" las tres dimensiones\n",
    "print(x[,,1]  ) # \"aplano\" la tercera dimensión\n",
    "print(x[,2,1])  # \"aplano\" la segunda y tercera dimensiones"
   ]
  },
  {
   "cell_type": "markdown",
   "metadata": {
    "button": false,
    "new_sheet": false,
    "run_control": {
     "read_only": false
    }
   },
   "source": [
    "### Factores\n",
    "Un factor es un vector utilizado para especificar una clasificación discreta de los elementos de otro vector de igual longitud. Un factor lleva dos atributos: `levels` y `class`, a los cuales se puede acceder mediante `levels()` y `class()`"
   ]
  },
  {
   "cell_type": "code",
   "execution_count": 133,
   "metadata": {
    "button": false,
    "new_sheet": false,
    "run_control": {
     "read_only": false
    }
   },
   "outputs": [
    {
     "name": "stdout",
     "output_type": "stream",
     "text": [
      "[1] San Tor Ovi Ovi San Ovi San Tor Ovi\n",
      "Levels: Ovi San Tor\n"
     ]
    }
   ],
   "source": [
    "# creación de un factor\n",
    "ciudades <- c(\"San\",\"Tor\",\"Ovi\",\"Ovi\",\"San\",\"Ovi\",\"San\",\"Tor\",\"Ovi\")\n",
    "\n",
    "ciudadesf <- factor(ciudades)  # creo un factor a partir del vector dado\n",
    "print(ciudadesf)"
   ]
  },
  {
   "cell_type": "code",
   "execution_count": 137,
   "metadata": {
    "button": false,
    "new_sheet": false,
    "run_control": {
     "read_only": false
    }
   },
   "outputs": [
    {
     "data": {
      "text/html": [
       "<dl>\n",
       "\t<dt>$levels</dt>\n",
       "\t\t<dd><style>\n",
       ".list-inline {list-style: none; margin:0; padding: 0}\n",
       ".list-inline>li {display: inline-block}\n",
       ".list-inline>li:not(:last-child)::after {content: \"\\00b7\"; padding: 0 .5ex}\n",
       "</style>\n",
       "<ol class=list-inline><li>'Ovi'</li><li>'San'</li><li>'Tor'</li></ol>\n",
       "</dd>\n",
       "\t<dt>$class</dt>\n",
       "\t\t<dd>'factor'</dd>\n",
       "</dl>\n"
      ],
      "text/latex": [
       "\\begin{description}\n",
       "\\item[\\$levels] \\begin{enumerate*}\n",
       "\\item 'Ovi'\n",
       "\\item 'San'\n",
       "\\item 'Tor'\n",
       "\\end{enumerate*}\n",
       "\n",
       "\\item[\\$class] 'factor'\n",
       "\\end{description}\n"
      ],
      "text/markdown": [
       "$levels\n",
       ":   1. 'Ovi'\n",
       "2. 'San'\n",
       "3. 'Tor'\n",
       "\n",
       "\n",
       "\n",
       "$class\n",
       ":   'factor'\n",
       "\n",
       "\n"
      ],
      "text/plain": [
       "$levels\n",
       "[1] \"Ovi\" \"San\" \"Tor\"\n",
       "\n",
       "$class\n",
       "[1] \"factor\"\n"
      ]
     },
     "metadata": {},
     "output_type": "display_data"
    }
   ],
   "source": [
    "# atributos del factor creado\n",
    "attributes(ciudadesf)"
   ]
  },
  {
   "cell_type": "code",
   "execution_count": 141,
   "metadata": {},
   "outputs": [
    {
     "name": "stdout",
     "output_type": "stream",
     "text": [
      "[1] \"Ovi\" \"San\" \"Tor\"\n",
      "[1] \"factor\"\n"
     ]
    },
    {
     "data": {
      "text/html": [
       "3"
      ],
      "text/latex": [
       "3"
      ],
      "text/markdown": [
       "3"
      ],
      "text/plain": [
       "[1] 3"
      ]
     },
     "metadata": {},
     "output_type": "display_data"
    }
   ],
   "source": [
    "# acceso a los atributos \n",
    "print(levels(ciudadesf))\n",
    "print(class(ciudadesf))"
   ]
  },
  {
   "cell_type": "code",
   "execution_count": 144,
   "metadata": {
    "button": false,
    "new_sheet": false,
    "run_control": {
     "read_only": false
    }
   },
   "outputs": [
    {
     "data": {
      "text/html": [
       "3"
      ],
      "text/latex": [
       "3"
      ],
      "text/markdown": [
       "3"
      ],
      "text/plain": [
       "[1] 3"
      ]
     },
     "metadata": {},
     "output_type": "display_data"
    },
    {
     "data": {
      "text/plain": [
       "ciudadesf\n",
       "Ovi San Tor \n",
       "  4   3   2 "
      ]
     },
     "metadata": {},
     "output_type": "display_data"
    },
    {
     "data": {
      "image/png": "[encoded data removed]",
      "text/plain": [
       "plot without title"
      ]
     },
     "metadata": {},
     "output_type": "display_data"
    }
   ],
   "source": [
    "# ¿cuántas ciudades distintas hay en mi vector inicial?\n",
    "length(levels(ciudadesf))  \n",
    "table(ciudadesf)  # tabla resumen\n",
    "plot(ciudadesf)  # histograma frecuencias"
   ]
  },
  {
   "cell_type": "markdown",
   "metadata": {
    "button": false,
    "new_sheet": false,
    "run_control": {
     "read_only": false
    }
   },
   "source": [
    "**Ejercicio**\n",
    "\n",
    "* Crea a un vector que contenga 10 números enteros entre el 1 y el 5.  \n",
    "* Convierte ese vector a un factor.\n",
    "* Accede a los distintos niveles.  \n",
    "* Haz una tabla de frequencias."
   ]
  },
  {
   "cell_type": "code",
   "execution_count": 153,
   "metadata": {},
   "outputs": [
    {
     "name": "stdout",
     "output_type": "stream",
     "text": [
      " [1] 4 4 5 4 2 4 4 4 2 2\n",
      " [1] 4 4 5 4 2 4 4 4 2 2\n",
      "Levels: 2 4 5\n"
     ]
    },
    {
     "data": {
      "text/plain": [
       "vecf\n",
       "2 4 5 \n",
       "3 6 1 "
      ]
     },
     "metadata": {},
     "output_type": "display_data"
    }
   ],
   "source": [
    "# solución"
   ]
  },
  {
   "cell_type": "markdown",
   "metadata": {
    "button": false,
    "new_sheet": false,
    "run_control": {
     "read_only": false
    }
   },
   "source": [
    "### Listas\n",
    "Una lista es una colección ordenada de objetos, que pueden ser de diferentes tipos (por ejemplo una combinación de vectores, matrices, factores, otras listas, data.frames, etc.). "
   ]
  },
  {
   "cell_type": "code",
   "execution_count": 157,
   "metadata": {
    "button": false,
    "new_sheet": false,
    "run_control": {
     "read_only": false
    }
   },
   "outputs": [
    {
     "name": "stdout",
     "output_type": "stream",
     "text": [
      "[[1]]\n",
      "[1] \"Pedro\"\n",
      "\n",
      "[[2]]\n",
      "[1] \"Pelayo\"\n",
      "\n",
      "[[3]]\n",
      "[1] 3\n",
      "\n",
      "[[4]]\n",
      "[1] 4 7 9\n",
      "\n",
      "[[5]]\n",
      "     [,1] [,2] [,3]\n",
      "[1,]    1    1    1\n",
      "[2,]    1    1    1\n",
      "\n"
     ]
    }
   ],
   "source": [
    "# crear una lista\n",
    "list1 <- list(\"Pedro\", \"Pelayo\", 3, c(4,7,9), matrix(1, nrow = 2, ncol = 3))\n",
    "print(list1)"
   ]
  },
  {
   "cell_type": "code",
   "execution_count": 159,
   "metadata": {
    "button": false,
    "new_sheet": false,
    "run_control": {
     "read_only": false
    }
   },
   "outputs": [
    {
     "name": "stdout",
     "output_type": "stream",
     "text": [
      "$nombre\n",
      "[1] \"Pedro\"\n",
      "\n",
      "$apellido\n",
      "[1] \"Pelayo\"\n",
      "\n",
      "$no.hijos\n",
      "[1] 3\n",
      "\n",
      "$edad.hijos\n",
      "[1] 4 7 9\n",
      "\n"
     ]
    }
   ],
   "source": [
    "# se le puede dar nombres a los elementos de una lista\n",
    "list2 <- list(nombre = \"Pedro\", apellido = \"Pelayo\", no.hijos = 3, edad.hijos = c(4,7,9))\n",
    "print(list2)"
   ]
  },
  {
   "cell_type": "code",
   "execution_count": 168,
   "metadata": {
    "button": false,
    "new_sheet": false,
    "run_control": {
     "read_only": false
    }
   },
   "outputs": [
    {
     "data": {
      "text/html": [
       "'Pedro'"
      ],
      "text/latex": [
       "'Pedro'"
      ],
      "text/markdown": [
       "'Pedro'"
      ],
      "text/plain": [
       "[1] \"Pedro\""
      ]
     },
     "metadata": {},
     "output_type": "display_data"
    },
    {
     "data": {
      "text/html": [
       "<style>\n",
       ".list-inline {list-style: none; margin:0; padding: 0}\n",
       ".list-inline>li {display: inline-block}\n",
       ".list-inline>li:not(:last-child)::after {content: \"\\00b7\"; padding: 0 .5ex}\n",
       "</style>\n",
       "<ol class=list-inline><li>4</li><li>7</li><li>9</li></ol>\n"
      ],
      "text/latex": [
       "\\begin{enumerate*}\n",
       "\\item 4\n",
       "\\item 7\n",
       "\\item 9\n",
       "\\end{enumerate*}\n"
      ],
      "text/markdown": [
       "1. 4\n",
       "2. 7\n",
       "3. 9\n",
       "\n",
       "\n"
      ],
      "text/plain": [
       "[1] 4 7 9"
      ]
     },
     "metadata": {},
     "output_type": "display_data"
    },
    {
     "data": {
      "text/html": [
       "4"
      ],
      "text/latex": [
       "4"
      ],
      "text/markdown": [
       "4"
      ],
      "text/plain": [
       "[1] 4"
      ]
     },
     "metadata": {},
     "output_type": "display_data"
    },
    {
     "data": {
      "text/html": [
       "'Pedro'"
      ],
      "text/latex": [
       "'Pedro'"
      ],
      "text/markdown": [
       "'Pedro'"
      ],
      "text/plain": [
       "[1] \"Pedro\""
      ]
     },
     "metadata": {},
     "output_type": "display_data"
    },
    {
     "data": {
      "text/html": [
       "3"
      ],
      "text/latex": [
       "3"
      ],
      "text/markdown": [
       "3"
      ],
      "text/plain": [
       "[1] 3"
      ]
     },
     "metadata": {},
     "output_type": "display_data"
    }
   ],
   "source": [
    "# selección de sublistas\n",
    "list2[[1]]  # primer elemento de la lista\n",
    "list2[[4]]  # cuarto elemento de la lista\n",
    "list2[[4]][1]  # primer elemento dentro del cuarto elemento de la lista\n",
    "list2$nombre  # acceso por etiquetas\n",
    "list2$no.hijos  # acceso por etiquetas"
   ]
  },
  {
   "cell_type": "markdown",
   "metadata": {
    "button": false,
    "new_sheet": false,
    "run_control": {
     "read_only": false
    }
   },
   "source": [
    "### Data frames\n",
    "Los data frames son estructuras muy versátiles que se usan para guardar tablas de datos (creadas o importadas). Un data frame lleva por defecto los atributos `names`, `row.names`, `class`"
   ]
  },
  {
   "cell_type": "code",
   "execution_count": 169,
   "metadata": {
    "button": false,
    "new_sheet": false,
    "run_control": {
     "read_only": false
    }
   },
   "outputs": [
    {
     "data": {
      "text/html": [
       "<table>\n",
       "<caption>A data.frame: 10 × 4</caption>\n",
       "<thead>\n",
       "\t<tr><th scope=col>edad</th><th scope=col>tiempo1</th><th scope=col>tiempo2</th><th scope=col>sexo</th></tr>\n",
       "\t<tr><th scope=col>&lt;dbl&gt;</th><th scope=col>&lt;dbl&gt;</th><th scope=col>&lt;dbl&gt;</th><th scope=col>&lt;fct&gt;</th></tr>\n",
       "</thead>\n",
       "<tbody>\n",
       "\t<tr><td>22</td><td>10.36</td><td>11.38</td><td>M</td></tr>\n",
       "\t<tr><td>34</td><td>14.21</td><td>15.20</td><td>H</td></tr>\n",
       "\t<tr><td>29</td><td>13.81</td><td>14.91</td><td>H</td></tr>\n",
       "\t<tr><td>25</td><td>11.89</td><td>12.90</td><td>M</td></tr>\n",
       "\t<tr><td>30</td><td>10.99</td><td>12.03</td><td>M</td></tr>\n",
       "\t<tr><td>33</td><td>12.03</td><td>12.58</td><td>H</td></tr>\n",
       "\t<tr><td>31</td><td>12.48</td><td>13.00</td><td>M</td></tr>\n",
       "\t<tr><td>27</td><td>13.37</td><td>13.01</td><td>M</td></tr>\n",
       "\t<tr><td>25</td><td>12.29</td><td>14.54</td><td>H</td></tr>\n",
       "\t<tr><td>25</td><td>11.92</td><td>15.27</td><td>H</td></tr>\n",
       "</tbody>\n",
       "</table>\n"
      ],
      "text/latex": [
       "A data.frame: 10 × 4\n",
       "\\begin{tabular}{llll}\n",
       " edad & tiempo1 & tiempo2 & sexo\\\\\n",
       " <dbl> & <dbl> & <dbl> & <fct>\\\\\n",
       "\\hline\n",
       "\t 22 & 10.36 & 11.38 & M\\\\\n",
       "\t 34 & 14.21 & 15.20 & H\\\\\n",
       "\t 29 & 13.81 & 14.91 & H\\\\\n",
       "\t 25 & 11.89 & 12.90 & M\\\\\n",
       "\t 30 & 10.99 & 12.03 & M\\\\\n",
       "\t 33 & 12.03 & 12.58 & H\\\\\n",
       "\t 31 & 12.48 & 13.00 & M\\\\\n",
       "\t 27 & 13.37 & 13.01 & M\\\\\n",
       "\t 25 & 12.29 & 14.54 & H\\\\\n",
       "\t 25 & 11.92 & 15.27 & H\\\\\n",
       "\\end{tabular}\n"
      ],
      "text/markdown": [
       "\n",
       "A data.frame: 10 × 4\n",
       "\n",
       "| edad &lt;dbl&gt; | tiempo1 &lt;dbl&gt; | tiempo2 &lt;dbl&gt; | sexo &lt;fct&gt; |\n",
       "|---|---|---|---|\n",
       "| 22 | 10.36 | 11.38 | M |\n",
       "| 34 | 14.21 | 15.20 | H |\n",
       "| 29 | 13.81 | 14.91 | H |\n",
       "| 25 | 11.89 | 12.90 | M |\n",
       "| 30 | 10.99 | 12.03 | M |\n",
       "| 33 | 12.03 | 12.58 | H |\n",
       "| 31 | 12.48 | 13.00 | M |\n",
       "| 27 | 13.37 | 13.01 | M |\n",
       "| 25 | 12.29 | 14.54 | H |\n",
       "| 25 | 11.92 | 15.27 | H |\n",
       "\n"
      ],
      "text/plain": [
       "   edad tiempo1 tiempo2 sexo\n",
       "1  22   10.36   11.38   M   \n",
       "2  34   14.21   15.20   H   \n",
       "3  29   13.81   14.91   H   \n",
       "4  25   11.89   12.90   M   \n",
       "5  30   10.99   12.03   M   \n",
       "6  33   12.03   12.58   H   \n",
       "7  31   12.48   13.00   M   \n",
       "8  27   13.37   13.01   M   \n",
       "9  25   12.29   14.54   H   \n",
       "10 25   11.92   15.27   H   "
      ]
     },
     "metadata": {},
     "output_type": "display_data"
    }
   ],
   "source": [
    "# creación de un data frame\n",
    "edad <- c(22, 34, 29, 25, 30, 33, 31, 27, 25, 25)  # edad estudiantes\n",
    "tiempo1 <- c(10.36, 14.21, 13.81, 11.89, 10.99, 12.03, 12.48, 13.37, 12.29, 11.92)  # primera carrera de 100 m.\n",
    "tiempo2 <- c(11.38, 15.20, 14.91, 12.90, 12.03, 12.58, 13.00, 13.01, 14.54, 15.27)  # segunda carrera de 100 m.\n",
    "sexo <- factor(c(\"M\",\"H\",\"H\",\"M\",\"M\",\"H\",\"M\",\"M\",\"H\",\"H\"))\n",
    "\n",
    "df <- data.frame(edad, tiempo1, tiempo2, sexo) # data frame\n",
    "df"
   ]
  },
  {
   "cell_type": "code",
   "execution_count": 170,
   "metadata": {
    "button": false,
    "new_sheet": false,
    "run_control": {
     "read_only": false
    },
    "scrolled": false
   },
   "outputs": [
    {
     "name": "stdout",
     "output_type": "stream",
     "text": [
      "'data.frame':\t10 obs. of  4 variables:\n",
      " $ edad   : num  22 34 29 25 30 33 31 27 25 25\n",
      " $ tiempo1: num  10.4 14.2 13.8 11.9 11 ...\n",
      " $ tiempo2: num  11.4 15.2 14.9 12.9 12 ...\n",
      " $ sexo   : Factor w/ 2 levels \"H\",\"M\": 2 1 1 2 2 1 2 2 1 1\n"
     ]
    }
   ],
   "source": [
    "# resumen acerca del data frame\n",
    "str(df)    "
   ]
  },
  {
   "cell_type": "markdown",
   "metadata": {
    "button": false,
    "new_sheet": false,
    "run_control": {
     "read_only": false
    }
   },
   "source": [
    "Se puede acceder a las columnas de un data frame por su nombre y operar con ellas fácilmente."
   ]
  },
  {
   "cell_type": "code",
   "execution_count": 171,
   "metadata": {
    "button": false,
    "new_sheet": false,
    "run_control": {
     "read_only": false
    }
   },
   "outputs": [
    {
     "data": {
      "text/html": [
       "<table>\n",
       "<caption>A data.frame: 10 × 5</caption>\n",
       "<thead>\n",
       "\t<tr><th scope=col>edad</th><th scope=col>tiempo1</th><th scope=col>tiempo2</th><th scope=col>sexo</th><th scope=col>totaltiempo</th></tr>\n",
       "\t<tr><th scope=col>&lt;dbl&gt;</th><th scope=col>&lt;dbl&gt;</th><th scope=col>&lt;dbl&gt;</th><th scope=col>&lt;fct&gt;</th><th scope=col>&lt;dbl&gt;</th></tr>\n",
       "</thead>\n",
       "<tbody>\n",
       "\t<tr><td>22</td><td>10.36</td><td>11.38</td><td>M</td><td>21.74</td></tr>\n",
       "\t<tr><td>34</td><td>14.21</td><td>15.20</td><td>H</td><td>29.41</td></tr>\n",
       "\t<tr><td>29</td><td>13.81</td><td>14.91</td><td>H</td><td>28.72</td></tr>\n",
       "\t<tr><td>25</td><td>11.89</td><td>12.90</td><td>M</td><td>24.79</td></tr>\n",
       "\t<tr><td>30</td><td>10.99</td><td>12.03</td><td>M</td><td>23.02</td></tr>\n",
       "\t<tr><td>33</td><td>12.03</td><td>12.58</td><td>H</td><td>24.61</td></tr>\n",
       "\t<tr><td>31</td><td>12.48</td><td>13.00</td><td>M</td><td>25.48</td></tr>\n",
       "\t<tr><td>27</td><td>13.37</td><td>13.01</td><td>M</td><td>26.38</td></tr>\n",
       "\t<tr><td>25</td><td>12.29</td><td>14.54</td><td>H</td><td>26.83</td></tr>\n",
       "\t<tr><td>25</td><td>11.92</td><td>15.27</td><td>H</td><td>27.19</td></tr>\n",
       "</tbody>\n",
       "</table>\n"
      ],
      "text/latex": [
       "A data.frame: 10 × 5\n",
       "\\begin{tabular}{lllll}\n",
       " edad & tiempo1 & tiempo2 & sexo & totaltiempo\\\\\n",
       " <dbl> & <dbl> & <dbl> & <fct> & <dbl>\\\\\n",
       "\\hline\n",
       "\t 22 & 10.36 & 11.38 & M & 21.74\\\\\n",
       "\t 34 & 14.21 & 15.20 & H & 29.41\\\\\n",
       "\t 29 & 13.81 & 14.91 & H & 28.72\\\\\n",
       "\t 25 & 11.89 & 12.90 & M & 24.79\\\\\n",
       "\t 30 & 10.99 & 12.03 & M & 23.02\\\\\n",
       "\t 33 & 12.03 & 12.58 & H & 24.61\\\\\n",
       "\t 31 & 12.48 & 13.00 & M & 25.48\\\\\n",
       "\t 27 & 13.37 & 13.01 & M & 26.38\\\\\n",
       "\t 25 & 12.29 & 14.54 & H & 26.83\\\\\n",
       "\t 25 & 11.92 & 15.27 & H & 27.19\\\\\n",
       "\\end{tabular}\n"
      ],
      "text/markdown": [
       "\n",
       "A data.frame: 10 × 5\n",
       "\n",
       "| edad &lt;dbl&gt; | tiempo1 &lt;dbl&gt; | tiempo2 &lt;dbl&gt; | sexo &lt;fct&gt; | totaltiempo &lt;dbl&gt; |\n",
       "|---|---|---|---|---|\n",
       "| 22 | 10.36 | 11.38 | M | 21.74 |\n",
       "| 34 | 14.21 | 15.20 | H | 29.41 |\n",
       "| 29 | 13.81 | 14.91 | H | 28.72 |\n",
       "| 25 | 11.89 | 12.90 | M | 24.79 |\n",
       "| 30 | 10.99 | 12.03 | M | 23.02 |\n",
       "| 33 | 12.03 | 12.58 | H | 24.61 |\n",
       "| 31 | 12.48 | 13.00 | M | 25.48 |\n",
       "| 27 | 13.37 | 13.01 | M | 26.38 |\n",
       "| 25 | 12.29 | 14.54 | H | 26.83 |\n",
       "| 25 | 11.92 | 15.27 | H | 27.19 |\n",
       "\n"
      ],
      "text/plain": [
       "   edad tiempo1 tiempo2 sexo totaltiempo\n",
       "1  22   10.36   11.38   M    21.74      \n",
       "2  34   14.21   15.20   H    29.41      \n",
       "3  29   13.81   14.91   H    28.72      \n",
       "4  25   11.89   12.90   M    24.79      \n",
       "5  30   10.99   12.03   M    23.02      \n",
       "6  33   12.03   12.58   H    24.61      \n",
       "7  31   12.48   13.00   M    25.48      \n",
       "8  27   13.37   13.01   M    26.38      \n",
       "9  25   12.29   14.54   H    26.83      \n",
       "10 25   11.92   15.27   H    27.19      "
      ]
     },
     "metadata": {},
     "output_type": "display_data"
    }
   ],
   "source": [
    "df$totaltiempo <- df$tiempo1 + df$tiempo2\n",
    "df"
   ]
  },
  {
   "cell_type": "markdown",
   "metadata": {
    "button": false,
    "new_sheet": false,
    "run_control": {
     "read_only": false
    }
   },
   "source": [
    "Existen funciones de R que operan directamente sobre data frames. Estas funciones reconocen automáticamente los nombres de las columnas, los factores (si los hay), etc."
   ]
  },
  {
   "cell_type": "code",
   "execution_count": 173,
   "metadata": {
    "button": false,
    "new_sheet": false,
    "run_control": {
     "read_only": false
    }
   },
   "outputs": [
    {
     "data": {
      "image/png": "[encoded data removed]",
      "text/plain": [
       "plot without title"
      ]
     },
     "metadata": {},
     "output_type": "display_data"
    }
   ],
   "source": [
    "plot(df)  # scatter plot que enfrenta todas las variables entre sí"
   ]
  },
  {
   "cell_type": "code",
   "execution_count": 181,
   "metadata": {},
   "outputs": [
    {
     "data": {
      "image/png": "[encoded data removed]",
      "text/plain": [
       "plot without title"
      ]
     },
     "metadata": {},
     "output_type": "display_data"
    }
   ],
   "source": [
    "plot(df, col = c(\"red\",\"green\")[df$sexo]) # rojo = hombre, verde = mujer"
   ]
  },
  {
   "cell_type": "markdown",
   "metadata": {
    "button": false,
    "new_sheet": false,
    "run_control": {
     "read_only": false
    }
   },
   "source": [
    "**Ejercicio**\n",
    "\n",
    "* Añade una nueva columna al data frame con la media de los tiempos empleados en las dos carreras. \n",
    "* Añade una nueva columna que indique si los estudiantes han aprobado el test: Tiempo medio < 13.  \n",
    "* Dibuja la edad vs el tiempo medio."
   ]
  },
  {
   "cell_type": "code",
   "execution_count": 178,
   "metadata": {
    "button": false,
    "new_sheet": false,
    "run_control": {
     "read_only": false
    }
   },
   "outputs": [
    {
     "data": {
      "text/html": [
       "<table>\n",
       "<caption>A data.frame: 10 × 7</caption>\n",
       "<thead>\n",
       "\t<tr><th scope=col>edad</th><th scope=col>tiempo1</th><th scope=col>tiempo2</th><th scope=col>sexo</th><th scope=col>totaltiempo</th><th scope=col>tiempomedio</th><th scope=col>aprobado</th></tr>\n",
       "\t<tr><th scope=col>&lt;dbl&gt;</th><th scope=col>&lt;dbl&gt;</th><th scope=col>&lt;dbl&gt;</th><th scope=col>&lt;fct&gt;</th><th scope=col>&lt;dbl&gt;</th><th scope=col>&lt;dbl&gt;</th><th scope=col>&lt;lgl&gt;</th></tr>\n",
       "</thead>\n",
       "<tbody>\n",
       "\t<tr><td>22</td><td>10.36</td><td>11.38</td><td>M</td><td>21.74</td><td>10.870</td><td> TRUE</td></tr>\n",
       "\t<tr><td>34</td><td>14.21</td><td>15.20</td><td>H</td><td>29.41</td><td>14.705</td><td>FALSE</td></tr>\n",
       "\t<tr><td>29</td><td>13.81</td><td>14.91</td><td>H</td><td>28.72</td><td>14.360</td><td>FALSE</td></tr>\n",
       "\t<tr><td>25</td><td>11.89</td><td>12.90</td><td>M</td><td>24.79</td><td>12.395</td><td> TRUE</td></tr>\n",
       "\t<tr><td>30</td><td>10.99</td><td>12.03</td><td>M</td><td>23.02</td><td>11.510</td><td> TRUE</td></tr>\n",
       "\t<tr><td>33</td><td>12.03</td><td>12.58</td><td>H</td><td>24.61</td><td>12.305</td><td> TRUE</td></tr>\n",
       "\t<tr><td>31</td><td>12.48</td><td>13.00</td><td>M</td><td>25.48</td><td>12.740</td><td> TRUE</td></tr>\n",
       "\t<tr><td>27</td><td>13.37</td><td>13.01</td><td>M</td><td>26.38</td><td>13.190</td><td>FALSE</td></tr>\n",
       "\t<tr><td>25</td><td>12.29</td><td>14.54</td><td>H</td><td>26.83</td><td>13.415</td><td>FALSE</td></tr>\n",
       "\t<tr><td>25</td><td>11.92</td><td>15.27</td><td>H</td><td>27.19</td><td>13.595</td><td>FALSE</td></tr>\n",
       "</tbody>\n",
       "</table>\n"
      ],
      "text/latex": [
       "A data.frame: 10 × 7\n",
       "\\begin{tabular}{lllllll}\n",
       " edad & tiempo1 & tiempo2 & sexo & totaltiempo & tiempomedio & aprobado\\\\\n",
       " <dbl> & <dbl> & <dbl> & <fct> & <dbl> & <dbl> & <lgl>\\\\\n",
       "\\hline\n",
       "\t 22 & 10.36 & 11.38 & M & 21.74 & 10.870 &  TRUE\\\\\n",
       "\t 34 & 14.21 & 15.20 & H & 29.41 & 14.705 & FALSE\\\\\n",
       "\t 29 & 13.81 & 14.91 & H & 28.72 & 14.360 & FALSE\\\\\n",
       "\t 25 & 11.89 & 12.90 & M & 24.79 & 12.395 &  TRUE\\\\\n",
       "\t 30 & 10.99 & 12.03 & M & 23.02 & 11.510 &  TRUE\\\\\n",
       "\t 33 & 12.03 & 12.58 & H & 24.61 & 12.305 &  TRUE\\\\\n",
       "\t 31 & 12.48 & 13.00 & M & 25.48 & 12.740 &  TRUE\\\\\n",
       "\t 27 & 13.37 & 13.01 & M & 26.38 & 13.190 & FALSE\\\\\n",
       "\t 25 & 12.29 & 14.54 & H & 26.83 & 13.415 & FALSE\\\\\n",
       "\t 25 & 11.92 & 15.27 & H & 27.19 & 13.595 & FALSE\\\\\n",
       "\\end{tabular}\n"
      ],
      "text/markdown": [
       "\n",
       "A data.frame: 10 × 7\n",
       "\n",
       "| edad &lt;dbl&gt; | tiempo1 &lt;dbl&gt; | tiempo2 &lt;dbl&gt; | sexo &lt;fct&gt; | totaltiempo &lt;dbl&gt; | tiempomedio &lt;dbl&gt; | aprobado &lt;lgl&gt; |\n",
       "|---|---|---|---|---|---|---|\n",
       "| 22 | 10.36 | 11.38 | M | 21.74 | 10.870 |  TRUE |\n",
       "| 34 | 14.21 | 15.20 | H | 29.41 | 14.705 | FALSE |\n",
       "| 29 | 13.81 | 14.91 | H | 28.72 | 14.360 | FALSE |\n",
       "| 25 | 11.89 | 12.90 | M | 24.79 | 12.395 |  TRUE |\n",
       "| 30 | 10.99 | 12.03 | M | 23.02 | 11.510 |  TRUE |\n",
       "| 33 | 12.03 | 12.58 | H | 24.61 | 12.305 |  TRUE |\n",
       "| 31 | 12.48 | 13.00 | M | 25.48 | 12.740 |  TRUE |\n",
       "| 27 | 13.37 | 13.01 | M | 26.38 | 13.190 | FALSE |\n",
       "| 25 | 12.29 | 14.54 | H | 26.83 | 13.415 | FALSE |\n",
       "| 25 | 11.92 | 15.27 | H | 27.19 | 13.595 | FALSE |\n",
       "\n"
      ],
      "text/plain": [
       "   edad tiempo1 tiempo2 sexo totaltiempo tiempomedio aprobado\n",
       "1  22   10.36   11.38   M    21.74       10.870       TRUE   \n",
       "2  34   14.21   15.20   H    29.41       14.705      FALSE   \n",
       "3  29   13.81   14.91   H    28.72       14.360      FALSE   \n",
       "4  25   11.89   12.90   M    24.79       12.395       TRUE   \n",
       "5  30   10.99   12.03   M    23.02       11.510       TRUE   \n",
       "6  33   12.03   12.58   H    24.61       12.305       TRUE   \n",
       "7  31   12.48   13.00   M    25.48       12.740       TRUE   \n",
       "8  27   13.37   13.01   M    26.38       13.190      FALSE   \n",
       "9  25   12.29   14.54   H    26.83       13.415      FALSE   \n",
       "10 25   11.92   15.27   H    27.19       13.595      FALSE   "
      ]
     },
     "metadata": {},
     "output_type": "display_data"
    },
    {
     "data": {
      "text/html": [
       "<table>\n",
       "<caption>A data.frame: 10 × 7</caption>\n",
       "<thead>\n",
       "\t<tr><th scope=col>edad</th><th scope=col>tiempo1</th><th scope=col>tiempo2</th><th scope=col>sexo</th><th scope=col>totaltiempo</th><th scope=col>tiempomedio</th><th scope=col>aprobado</th></tr>\n",
       "\t<tr><th scope=col>&lt;dbl&gt;</th><th scope=col>&lt;dbl&gt;</th><th scope=col>&lt;dbl&gt;</th><th scope=col>&lt;fct&gt;</th><th scope=col>&lt;dbl&gt;</th><th scope=col>&lt;dbl&gt;</th><th scope=col>&lt;lgl&gt;</th></tr>\n",
       "</thead>\n",
       "<tbody>\n",
       "\t<tr><td>22</td><td>10.36</td><td>11.38</td><td>M</td><td>21.74</td><td>10.870</td><td> TRUE</td></tr>\n",
       "\t<tr><td>34</td><td>14.21</td><td>15.20</td><td>H</td><td>29.41</td><td>14.705</td><td>FALSE</td></tr>\n",
       "\t<tr><td>29</td><td>13.81</td><td>14.91</td><td>H</td><td>28.72</td><td>14.360</td><td>FALSE</td></tr>\n",
       "\t<tr><td>25</td><td>11.89</td><td>12.90</td><td>M</td><td>24.79</td><td>12.395</td><td> TRUE</td></tr>\n",
       "\t<tr><td>30</td><td>10.99</td><td>12.03</td><td>M</td><td>23.02</td><td>11.510</td><td> TRUE</td></tr>\n",
       "\t<tr><td>33</td><td>12.03</td><td>12.58</td><td>H</td><td>24.61</td><td>12.305</td><td> TRUE</td></tr>\n",
       "\t<tr><td>31</td><td>12.48</td><td>13.00</td><td>M</td><td>25.48</td><td>12.740</td><td> TRUE</td></tr>\n",
       "\t<tr><td>27</td><td>13.37</td><td>13.01</td><td>M</td><td>26.38</td><td>13.190</td><td>FALSE</td></tr>\n",
       "\t<tr><td>25</td><td>12.29</td><td>14.54</td><td>H</td><td>26.83</td><td>13.415</td><td>FALSE</td></tr>\n",
       "\t<tr><td>25</td><td>11.92</td><td>15.27</td><td>H</td><td>27.19</td><td>13.595</td><td>FALSE</td></tr>\n",
       "</tbody>\n",
       "</table>\n"
      ],
      "text/latex": [
       "A data.frame: 10 × 7\n",
       "\\begin{tabular}{lllllll}\n",
       " edad & tiempo1 & tiempo2 & sexo & totaltiempo & tiempomedio & aprobado\\\\\n",
       " <dbl> & <dbl> & <dbl> & <fct> & <dbl> & <dbl> & <lgl>\\\\\n",
       "\\hline\n",
       "\t 22 & 10.36 & 11.38 & M & 21.74 & 10.870 &  TRUE\\\\\n",
       "\t 34 & 14.21 & 15.20 & H & 29.41 & 14.705 & FALSE\\\\\n",
       "\t 29 & 13.81 & 14.91 & H & 28.72 & 14.360 & FALSE\\\\\n",
       "\t 25 & 11.89 & 12.90 & M & 24.79 & 12.395 &  TRUE\\\\\n",
       "\t 30 & 10.99 & 12.03 & M & 23.02 & 11.510 &  TRUE\\\\\n",
       "\t 33 & 12.03 & 12.58 & H & 24.61 & 12.305 &  TRUE\\\\\n",
       "\t 31 & 12.48 & 13.00 & M & 25.48 & 12.740 &  TRUE\\\\\n",
       "\t 27 & 13.37 & 13.01 & M & 26.38 & 13.190 & FALSE\\\\\n",
       "\t 25 & 12.29 & 14.54 & H & 26.83 & 13.415 & FALSE\\\\\n",
       "\t 25 & 11.92 & 15.27 & H & 27.19 & 13.595 & FALSE\\\\\n",
       "\\end{tabular}\n"
      ],
      "text/markdown": [
       "\n",
       "A data.frame: 10 × 7\n",
       "\n",
       "| edad &lt;dbl&gt; | tiempo1 &lt;dbl&gt; | tiempo2 &lt;dbl&gt; | sexo &lt;fct&gt; | totaltiempo &lt;dbl&gt; | tiempomedio &lt;dbl&gt; | aprobado &lt;lgl&gt; |\n",
       "|---|---|---|---|---|---|---|\n",
       "| 22 | 10.36 | 11.38 | M | 21.74 | 10.870 |  TRUE |\n",
       "| 34 | 14.21 | 15.20 | H | 29.41 | 14.705 | FALSE |\n",
       "| 29 | 13.81 | 14.91 | H | 28.72 | 14.360 | FALSE |\n",
       "| 25 | 11.89 | 12.90 | M | 24.79 | 12.395 |  TRUE |\n",
       "| 30 | 10.99 | 12.03 | M | 23.02 | 11.510 |  TRUE |\n",
       "| 33 | 12.03 | 12.58 | H | 24.61 | 12.305 |  TRUE |\n",
       "| 31 | 12.48 | 13.00 | M | 25.48 | 12.740 |  TRUE |\n",
       "| 27 | 13.37 | 13.01 | M | 26.38 | 13.190 | FALSE |\n",
       "| 25 | 12.29 | 14.54 | H | 26.83 | 13.415 | FALSE |\n",
       "| 25 | 11.92 | 15.27 | H | 27.19 | 13.595 | FALSE |\n",
       "\n"
      ],
      "text/plain": [
       "   edad tiempo1 tiempo2 sexo totaltiempo tiempomedio aprobado\n",
       "1  22   10.36   11.38   M    21.74       10.870       TRUE   \n",
       "2  34   14.21   15.20   H    29.41       14.705      FALSE   \n",
       "3  29   13.81   14.91   H    28.72       14.360      FALSE   \n",
       "4  25   11.89   12.90   M    24.79       12.395       TRUE   \n",
       "5  30   10.99   12.03   M    23.02       11.510       TRUE   \n",
       "6  33   12.03   12.58   H    24.61       12.305       TRUE   \n",
       "7  31   12.48   13.00   M    25.48       12.740       TRUE   \n",
       "8  27   13.37   13.01   M    26.38       13.190      FALSE   \n",
       "9  25   12.29   14.54   H    26.83       13.415      FALSE   \n",
       "10 25   11.92   15.27   H    27.19       13.595      FALSE   "
      ]
     },
     "metadata": {},
     "output_type": "display_data"
    },
    {
     "data": {
      "image/png": "[encoded data removed]",
      "text/plain": [
       "plot without title"
      ]
     },
     "metadata": {},
     "output_type": "display_data"
    }
   ],
   "source": [
    "# solución"
   ]
  },
  {
   "cell_type": "markdown",
   "metadata": {
    "button": false,
    "new_sheet": false,
    "run_control": {
     "read_only": false
    }
   },
   "source": [
    "Las bases de datos o datasets (por ejemplo en formato excel o csv) se importan en R como data frames para análisis posteriores. R incluye por defecto una serie de datasets interesantes, por ejemplo `swiss` (datos sobre fertilidad y diversos factores socio-econónicos en 47 provincias suizas)."
   ]
  },
  {
   "cell_type": "code",
   "execution_count": 180,
   "metadata": {
    "button": false,
    "new_sheet": false,
    "run_control": {
     "read_only": false
    }
   },
   "outputs": [
    {
     "name": "stdout",
     "output_type": "stream",
     "text": [
      "'data.frame':\t47 obs. of  6 variables:\n",
      " $ Fertility       : num  80.2 83.1 92.5 85.8 76.9 76.1 83.8 92.4 82.4 82.9 ...\n",
      " $ Agriculture     : num  17 45.1 39.7 36.5 43.5 35.3 70.2 67.8 53.3 45.2 ...\n",
      " $ Examination     : int  15 6 5 12 17 9 16 14 12 16 ...\n",
      " $ Education       : int  12 9 5 7 15 7 7 8 7 13 ...\n",
      " $ Catholic        : num  9.96 84.84 93.4 33.77 5.16 ...\n",
      " $ Infant.Mortality: num  22.2 22.2 20.2 20.3 20.6 26.6 23.6 24.9 21 24.4 ...\n"
     ]
    }
   ],
   "source": [
    "data(swiss)  # cargo en memoria el dataset swiss\n",
    "?swiss  # obtengo información sobre el dataset\n",
    "str(swiss)"
   ]
  },
  {
   "cell_type": "markdown",
   "metadata": {
    "button": false,
    "new_sheet": false,
    "run_control": {
     "read_only": false
    }
   },
   "source": [
    "**Ejercicio**\n",
    "\n",
    "* Busca en la ayuda del data frame (`swiss`) el ejemplo en que se hace una regresión lineal. Copia ese ejemplo.\n",
    "* Trata de explicar la relacion existente entre la \"Education\" y \"Examination\" con un plot o una regresión lineal entre las dos variables.\n",
    "* Convierte la variable `catholic` del data frame `swiss` en una variable categórica (por ejemplo de tipo lógico con la condicion > 55%). Posteriormente conviértela a factor. Haz una tabla de frequencias: ¿Como se ha dividido el país?\n",
    "* Haz un nuevo data frame `swiss2` que sólo contenga las columnas \"Fertility\", \"Agriculture\" e \"Infant.Mortality\". \n",
    "* Dibuja un scatterplot de `swiss2`."
   ]
  },
  {
   "cell_type": "code",
   "execution_count": 182,
   "metadata": {
    "button": false,
    "new_sheet": false,
    "run_control": {
     "read_only": false
    }
   },
   "outputs": [
    {
     "data": {
      "text/plain": [
       "\n",
       "Call:\n",
       "lm(formula = Examination ~ Education, data = swiss)\n",
       "\n",
       "Residuals:\n",
       "     Min       1Q   Median       3Q      Max \n",
       "-10.9322  -4.7633  -0.1838   3.8907  12.4983 \n",
       "\n",
       "Coefficients:\n",
       "            Estimate Std. Error t value Pr(>|t|)    \n",
       "(Intercept) 10.12748    1.28589   7.876 5.23e-10 ***\n",
       "Education    0.57947    0.08852   6.546 4.81e-08 ***\n",
       "---\n",
       "Signif. codes:  0 ‘***’ 0.001 ‘**’ 0.01 ‘*’ 0.05 ‘.’ 0.1 ‘ ’ 1\n",
       "\n",
       "Residual standard error: 5.773 on 45 degrees of freedom\n",
       "Multiple R-squared:  0.4878,\tAdjusted R-squared:  0.4764 \n",
       "F-statistic: 42.85 on 1 and 45 DF,  p-value: 4.811e-08\n"
      ]
     },
     "metadata": {},
     "output_type": "display_data"
    },
    {
     "data": {
      "text/html": [
       "'logical'"
      ],
      "text/latex": [
       "'logical'"
      ],
      "text/markdown": [
       "'logical'"
      ],
      "text/plain": [
       "[1] \"logical\""
      ]
     },
     "metadata": {},
     "output_type": "display_data"
    },
    {
     "data": {
      "text/plain": [
       "catholicf\n",
       "FALSE  TRUE \n",
       "   30    17 "
      ]
     },
     "metadata": {},
     "output_type": "display_data"
    },
    {
     "data": {
      "image/png": "[encoded data removed]",
      "text/plain": [
       "plot without title"
      ]
     },
     "metadata": {},
     "output_type": "display_data"
    },
    {
     "data": {
      "image/png": "[encoded data removed]",
      "text/plain": [
       "plot without title"
      ]
     },
     "metadata": {},
     "output_type": "display_data"
    }
   ],
   "source": [
    "# solución\n",
    "\n",
    "summary(lm(Examination ~ Education, data = swiss))\n",
    "plot(swiss$Examination ~ swiss$Education)\n",
    "\n",
    "catholic.log <- swiss$Catholic > 55 # Convierte\n",
    "class(catholic.log) \n",
    "catholicf <- factor(catholic.log)\n",
    "table(catholicf)\n",
    "\n",
    "swiss2 <- swiss[c(\"Fertility\", \"Agriculture\", \"Infant.Mortality\")]\n",
    "pairs(swiss2, main = \"swiss2\")"
   ]
  },
  {
   "cell_type": "markdown",
   "metadata": {
    "button": false,
    "new_sheet": false,
    "run_control": {
     "read_only": false
    }
   },
   "source": [
    "### Funciones\n",
    "Las funciones permiten realizar operaciones sobre objetos de una manera estructurada. La forma básica de definir una función (por ejemplo, *function.name*) en R es la siguiente:\n",
    "\n",
    "```{r}\n",
    "function.name <- function(arg1, arg2, ..., argN) {\n",
    "# statements\n",
    "}\n",
    "```\n",
    " \n",
    "*arg1, ..., argN* son las variables y/o argumentos de entrada que necesita la función\n",
    "    \n",
    "    \n",
    "La forma de llamar a esta función sería tal que así:\n",
    "\n",
    "```{r}\n",
    "res <- function.name(arg1, arg2, ..., argN)\n",
    "```\n",
    "     \n",
    "*res* es la variable de salida que devuelve la función como resultado de las operaciones hechas sobre las variables de entrada."
   ]
  },
  {
   "cell_type": "code",
   "execution_count": 184,
   "metadata": {
    "button": false,
    "new_sheet": false,
    "run_control": {
     "read_only": false
    }
   },
   "outputs": [
    {
     "name": "stdout",
     "output_type": "stream",
     "text": [
      "[1] \"Hello world\"\n"
     ]
    }
   ],
   "source": [
    "# es posible definir una función sin ninguna variable de entrada (aunque no tiene mucho sentido)\n",
    "\n",
    "# función \"sin función\"\n",
    "hello <- function() {\n",
    " print(\"Hello world\")\n",
    "}\n",
    "hello()"
   ]
  },
  {
   "cell_type": "code",
   "execution_count": 186,
   "metadata": {
    "button": false,
    "new_sheet": false,
    "run_control": {
     "read_only": false
    }
   },
   "outputs": [
    {
     "data": {
      "text/html": [
       "12"
      ],
      "text/latex": [
       "12"
      ],
      "text/markdown": [
       "12"
      ],
      "text/plain": [
       "[1] 12"
      ]
     },
     "metadata": {},
     "output_type": "display_data"
    }
   ],
   "source": [
    "# calcula la suma de dos números\n",
    "fun.sum <- function(x, y) {\n",
    " return(x + y)\n",
    "}\n",
    "fun.sum(5, 7)"
   ]
  },
  {
   "cell_type": "code",
   "execution_count": 187,
   "metadata": {
    "button": false,
    "new_sheet": false,
    "run_control": {
     "read_only": false
    }
   },
   "outputs": [
    {
     "data": {
      "text/html": [
       "<style>\n",
       ".list-inline {list-style: none; margin:0; padding: 0}\n",
       ".list-inline>li {display: inline-block}\n",
       ".list-inline>li:not(:last-child)::after {content: \"\\00b7\"; padding: 0 .5ex}\n",
       "</style>\n",
       "<ol class=list-inline><li>1</li><li>100</li></ol>\n"
      ],
      "text/latex": [
       "\\begin{enumerate*}\n",
       "\\item 1\n",
       "\\item 100\n",
       "\\end{enumerate*}\n"
      ],
      "text/markdown": [
       "1. 1\n",
       "2. 100\n",
       "\n",
       "\n"
      ],
      "text/plain": [
       "[1]   1 100"
      ]
     },
     "metadata": {},
     "output_type": "display_data"
    }
   ],
   "source": [
    "# cálculo del máximo y el mínimo de un vector\n",
    "max.min <- function(x) {\n",
    " return(c(min(x), max(x)))\n",
    "}\n",
    "\n",
    "vec <- 1:100\n",
    "max.min(vec)"
   ]
  },
  {
   "cell_type": "markdown",
   "metadata": {
    "button": false,
    "new_sheet": false,
    "run_control": {
     "read_only": false
    }
   },
   "source": [
    "**Ejercicio**\n",
    "\n",
    "Construye una función llamada *IMC* que calcule el *Indice de Masa Corporal* a partir del peso (en kg) y la altura (en m). IMC = peso/altura^2."
   ]
  },
  {
   "cell_type": "code",
   "execution_count": 188,
   "metadata": {
    "button": false,
    "new_sheet": false,
    "run_control": {
     "read_only": false
    }
   },
   "outputs": [],
   "source": [
    "peso = c(55, 63, 77, 82, 61, 75, 92)\n",
    "altura = c(1.60, 1.73, 1.71, 1.75, 1.58, 1.72, 1.81)\n",
    "\n",
    "# solución"
   ]
  },
  {
   "cell_type": "markdown",
   "metadata": {
    "button": false,
    "new_sheet": false,
    "run_control": {
     "read_only": false
    }
   },
   "source": [
    "Hay variables de entrada que son obligatorias y otras que son opcionales. Por ejemplo, la función *log* tiene una variable de entrada obligatoria (el número del cual se desea calcular el logaritmo) y otra opcional (si no se especifica lo contrario, se calcula el logaritmo natural, es decir, en base *e*)."
   ]
  },
  {
   "cell_type": "code",
   "execution_count": 193,
   "metadata": {
    "button": false,
    "new_sheet": false,
    "run_control": {
     "read_only": false
    }
   },
   "outputs": [
    {
     "data": {
      "text/html": [
       "1"
      ],
      "text/latex": [
       "1"
      ],
      "text/markdown": [
       "1"
      ],
      "text/plain": [
       "[1] 1"
      ]
     },
     "metadata": {},
     "output_type": "display_data"
    },
    {
     "data": {
      "text/html": [
       "1.44269504088896"
      ],
      "text/latex": [
       "1.44269504088896"
      ],
      "text/markdown": [
       "1.44269504088896"
      ],
      "text/plain": [
       "[1] 1.442695"
      ]
     },
     "metadata": {},
     "output_type": "display_data"
    }
   ],
   "source": [
    "log(exp(1))\n",
    "log(exp(1), base = 2)"
   ]
  },
  {
   "cell_type": "code",
   "execution_count": 194,
   "metadata": {
    "button": false,
    "new_sheet": false,
    "run_control": {
     "read_only": false
    }
   },
   "outputs": [
    {
     "data": {
      "text/html": [
       "<style>\n",
       ".list-inline {list-style: none; margin:0; padding: 0}\n",
       ".list-inline>li {display: inline-block}\n",
       ".list-inline>li:not(:last-child)::after {content: \"\\00b7\"; padding: 0 .5ex}\n",
       "</style>\n",
       "<ol class=list-inline><li>10</li><li>2</li></ol>\n"
      ],
      "text/latex": [
       "\\begin{enumerate*}\n",
       "\\item 10\n",
       "\\item 2\n",
       "\\end{enumerate*}\n"
      ],
      "text/markdown": [
       "1. 10\n",
       "2. 2\n",
       "\n",
       "\n"
      ],
      "text/plain": [
       "[1] 10  2"
      ]
     },
     "metadata": {},
     "output_type": "display_data"
    },
    {
     "data": {
      "text/html": [
       "100"
      ],
      "text/latex": [
       "100"
      ],
      "text/markdown": [
       "100"
      ],
      "text/plain": [
       "[1] 100"
      ]
     },
     "metadata": {},
     "output_type": "display_data"
    },
    {
     "data": {
      "text/html": [
       "5"
      ],
      "text/latex": [
       "5"
      ],
      "text/markdown": [
       "5"
      ],
      "text/plain": [
       "[1] 5"
      ]
     },
     "metadata": {},
     "output_type": "display_data"
    }
   ],
   "source": [
    "# esta función, por ejemplo, admite un argumento de entrada opcional (\"operator\"), que puede tomar los valores \"power\" o \"divide\".\n",
    "# función para realizar operaciones (elevar al cuadrado o dividir) sobre dos números\n",
    "\n",
    "operate.2num = function(x, y, operator = NULL) {\n",
    "    if (is.null(operator)) {\n",
    "        return(c(x, y))\n",
    "    } else if (operator == \"power\") {\n",
    "        return(x^y)\n",
    "    } else if (operator == \"divide\") {\n",
    "        return(x/y)\n",
    "    }\n",
    "}\n",
    "operate.2num(10, 2)\n",
    "operate.2num(10, 2, \"power\")\n",
    "operate.2num(10, 2, \"divide\")"
   ]
  },
  {
   "cell_type": "markdown",
   "metadata": {
    "button": false,
    "new_sheet": false,
    "run_control": {
     "read_only": false
    }
   },
   "source": [
    "**Ejercicio**\n",
    " \n",
    "Modifica la función anterior (*operate.2num*) para que:\n",
    " * Permita también calcular el logaritmo de \"x\" en base \"y\"\n",
    " * En el caso de la operación \"power\" sea el mayor de los dos números el que se eleve al menor"
   ]
  },
  {
   "cell_type": "code",
   "execution_count": 195,
   "metadata": {
    "button": false,
    "new_sheet": false,
    "run_control": {
     "read_only": false
    }
   },
   "outputs": [],
   "source": [
    "# solución"
   ]
  },
  {
   "cell_type": "markdown",
   "metadata": {
    "button": false,
    "new_sheet": false,
    "run_control": {
     "read_only": false
    }
   },
   "source": [
    "La ayuda de una función en R se puede obtener mediante los comandos `?` y `help()`, y se estructura en varias secciones:\n",
    "   +  **Description**: breve descripción de lo que hace la función.  \n",
    "   +  **Usage**: sintaxis de la función.\n",
    "   +  **Arguments**: explicación de los argumentos que recibe la función.\n",
    "   +  **Value**: explicación del objeto que devuelve la función. El objeto devuelto puede ser un valor, una lista, una matriz, …\n",
    "   +  **References**: bibliografía relacionada con los métodos implementados en la función.\n",
    "   +  **See Also**: funciones relacionadas.\n",
    "   +  **Examples**: esta es sin duda la sección más importante ya que muestra ejemplos efectivos del uso de la función."
   ]
  },
  {
   "cell_type": "code",
   "execution_count": 196,
   "metadata": {
    "button": false,
    "new_sheet": false,
    "run_control": {
     "read_only": false
    }
   },
   "outputs": [],
   "source": [
    "?mean()\n",
    "help(mean)"
   ]
  },
  {
   "cell_type": "markdown",
   "metadata": {
    "button": false,
    "new_sheet": false,
    "run_control": {
     "read_only": false
    }
   },
   "source": [
    "Si queremos utilizar una función que no recordamos (o no conocemos), pero de la que sabemos (o sospechamos) que su nombre contiene el término *mean*, podemos utilizar *apropos(\"mean\")*, que nos devuelve un listado de funciones que contienen dicho témino en su nombre."
   ]
  },
  {
   "cell_type": "code",
   "execution_count": 197,
   "metadata": {
    "button": false,
    "new_sheet": false,
    "run_control": {
     "read_only": false
    }
   },
   "outputs": [
    {
     "data": {
      "text/html": [
       "<style>\n",
       ".list-inline {list-style: none; margin:0; padding: 0}\n",
       ".list-inline>li {display: inline-block}\n",
       ".list-inline>li:not(:last-child)::after {content: \"\\00b7\"; padding: 0 .5ex}\n",
       "</style>\n",
       "<ol class=list-inline><li>'.colMeans'</li><li>'.rowMeans'</li><li>'colMeans'</li><li>'kmeans'</li><li>'mean'</li><li>'mean.Date'</li><li>'mean.default'</li><li>'mean.difftime'</li><li>'mean.POSIXct'</li><li>'mean.POSIXlt'</li><li>'rowMeans'</li><li>'weighted.mean'</li></ol>\n"
      ],
      "text/latex": [
       "\\begin{enumerate*}\n",
       "\\item '.colMeans'\n",
       "\\item '.rowMeans'\n",
       "\\item 'colMeans'\n",
       "\\item 'kmeans'\n",
       "\\item 'mean'\n",
       "\\item 'mean.Date'\n",
       "\\item 'mean.default'\n",
       "\\item 'mean.difftime'\n",
       "\\item 'mean.POSIXct'\n",
       "\\item 'mean.POSIXlt'\n",
       "\\item 'rowMeans'\n",
       "\\item 'weighted.mean'\n",
       "\\end{enumerate*}\n"
      ],
      "text/markdown": [
       "1. '.colMeans'\n",
       "2. '.rowMeans'\n",
       "3. 'colMeans'\n",
       "4. 'kmeans'\n",
       "5. 'mean'\n",
       "6. 'mean.Date'\n",
       "7. 'mean.default'\n",
       "8. 'mean.difftime'\n",
       "9. 'mean.POSIXct'\n",
       "10. 'mean.POSIXlt'\n",
       "11. 'rowMeans'\n",
       "12. 'weighted.mean'\n",
       "\n",
       "\n"
      ],
      "text/plain": [
       " [1] \".colMeans\"     \".rowMeans\"     \"colMeans\"      \"kmeans\"       \n",
       " [5] \"mean\"          \"mean.Date\"     \"mean.default\"  \"mean.difftime\"\n",
       " [9] \"mean.POSIXct\"  \"mean.POSIXlt\"  \"rowMeans\"      \"weighted.mean\""
      ]
     },
     "metadata": {},
     "output_type": "display_data"
    }
   ],
   "source": [
    "apropos(\"mean\")"
   ]
  },
  {
   "cell_type": "markdown",
   "metadata": {
    "button": false,
    "new_sheet": false,
    "run_control": {
     "read_only": false
    }
   },
   "source": [
    "## Librerías en R\n",
    "\n",
    "* La instalación básica de R viene equipada con múltiples funciones para análisis estadístico, importación de datos, gráficos, etc. Sin embargo, puede ocurrir que necesitemos llevar a cabo un análisis muy específico para el cual no encontremos las funciones adecuadas. En ese caso, la gran ventaja de R radica en que, en la práctica, casi siempre será posible encontrar un paquete (ó librería) que ya haya sido diseñado para el fin que perseguimos.\n",
    "* Un paquete es una colección de funciones y/o datos con un propósito concreto (normalmente bastante específico) que se almacenan en una carpeta conforme a una estructura bien definida, fácilmente entendible por R.\n",
    "* En la web de R se puede consultar la lista de paquetes disponibles (actualmente, más de 16000): https://cran.r-project.org/web/packages/. En la sección Task Views (https://cran.r-project.org/web/views/) se puede consultar una lista de paquetes ordenada según áreas de aplicación."
   ]
  },
  {
   "cell_type": "code",
   "execution_count": 200,
   "metadata": {
    "button": false,
    "new_sheet": false,
    "run_control": {
     "read_only": false
    }
   },
   "outputs": [
    {
     "name": "stderr",
     "output_type": "stream",
     "text": [
      "Warning message in library():\n",
      "“libraries ‘/usr/local/lib/R/site-library’, ‘/usr/lib/R/site-library’ contain no packages”"
     ]
    }
   ],
   "source": [
    "# el comando `library()` abre una ventana con información sobre los paquetes instalados\n",
    "library()"
   ]
  },
  {
   "cell_type": "code",
   "execution_count": 201,
   "metadata": {
    "button": false,
    "new_sheet": false,
    "run_control": {
     "read_only": false
    }
   },
   "outputs": [
    {
     "data": {
      "text/html": [
       "<style>\n",
       ".list-inline {list-style: none; margin:0; padding: 0}\n",
       ".list-inline>li {display: inline-block}\n",
       ".list-inline>li:not(:last-child)::after {content: \"\\00b7\"; padding: 0 .5ex}\n",
       "</style>\n",
       "<ol class=list-inline><li>'.GlobalEnv'</li><li>'jupyter:irkernel'</li><li>'package:stats'</li><li>'package:graphics'</li><li>'package:grDevices'</li><li>'package:utils'</li><li>'package:datasets'</li><li>'package:methods'</li><li>'Autoloads'</li><li>'package:base'</li></ol>\n"
      ],
      "text/latex": [
       "\\begin{enumerate*}\n",
       "\\item '.GlobalEnv'\n",
       "\\item 'jupyter:irkernel'\n",
       "\\item 'package:stats'\n",
       "\\item 'package:graphics'\n",
       "\\item 'package:grDevices'\n",
       "\\item 'package:utils'\n",
       "\\item 'package:datasets'\n",
       "\\item 'package:methods'\n",
       "\\item 'Autoloads'\n",
       "\\item 'package:base'\n",
       "\\end{enumerate*}\n"
      ],
      "text/markdown": [
       "1. '.GlobalEnv'\n",
       "2. 'jupyter:irkernel'\n",
       "3. 'package:stats'\n",
       "4. 'package:graphics'\n",
       "5. 'package:grDevices'\n",
       "6. 'package:utils'\n",
       "7. 'package:datasets'\n",
       "8. 'package:methods'\n",
       "9. 'Autoloads'\n",
       "10. 'package:base'\n",
       "\n",
       "\n"
      ],
      "text/plain": [
       " [1] \".GlobalEnv\"        \"jupyter:irkernel\"  \"package:stats\"    \n",
       " [4] \"package:graphics\"  \"package:grDevices\" \"package:utils\"    \n",
       " [7] \"package:datasets\"  \"package:methods\"   \"Autoloads\"        \n",
       "[10] \"package:base\"     "
      ]
     },
     "metadata": {},
     "output_type": "display_data"
    }
   ],
   "source": [
    "# podemos ver un listado completo de los paquetes actualmente cargados en memoria con el comando `search()`\n",
    "search()"
   ]
  },
  {
   "cell_type": "markdown",
   "metadata": {
    "button": false,
    "new_sheet": false,
    "run_control": {
     "read_only": false
    }
   },
   "source": [
    "Para poder usar un paquete es necesario instalarlo y después cargarlo en memoria (comando `library`).\n",
    "  \n",
    " + Instalación de librerías:\n",
    "     + CRAN \n",
    "     + GitHub (hay que instalar antes el paquete \"devtools\")\n",
    "     + Local"
   ]
  },
  {
   "cell_type": "code",
   "execution_count": null,
   "metadata": {
    "button": false,
    "new_sheet": false,
    "run_control": {
     "read_only": false
    }
   },
   "outputs": [],
   "source": [
    "## installing from CRAN ##\n",
    "\n",
    "# R.matlab package (https://cran.r-project.org/web/packages/R.matlab/index.html)\n",
    "# R.matlab provides methods for controlling MATLAB via R and sending and retrieving data between R and MATLAB\n",
    "install.packages(\"R.matlab\")\n",
    "\n",
    "# la primera vez que se instale un paquete, R  preguntará el país desde dónde se desea descargar\n",
    "# (es aconsejable hacerlo desde un mirror español) \n",
    "\n",
    "# una vez instalado no se necesitará instalarlo más, pero hay que cargarlo en memoria para poder usarlo\n",
    "library(R.matlab)\n",
    "existsFunction(\"writeMat\")"
   ]
  },
  {
   "cell_type": "code",
   "execution_count": null,
   "metadata": {
    "button": false,
    "new_sheet": false,
    "run_control": {
     "read_only": false
    }
   },
   "outputs": [],
   "source": [
    "## installing from GitHub ##\n",
    "\n",
    "# instalamos primero el paquete devtools: https://cran.r-project.org/web/packages/devtools/index.html\n",
    "install.packages(\"devtools\")\n",
    "library(devtools)\n",
    "\n",
    "install_github(\"HenrikBengtsson/R.matlab@develop\")\n",
    "library(R.matlab)"
   ]
  },
  {
   "cell_type": "code",
   "execution_count": 202,
   "metadata": {
    "button": false,
    "new_sheet": false,
    "run_control": {
     "read_only": false
    }
   },
   "outputs": [
    {
     "name": "stderr",
     "output_type": "stream",
     "text": [
      "Installing package into ‘/home/rodrigo/R/x86_64-pc-linux-gnu-library/3.6’\n",
      "(as ‘lib’ is unspecified)\n",
      "inferring 'repos = NULL' from 'pkgs'\n",
      "Warning message in install.packages(\"./pathLocal/paquete.tar.gz\", type = \"source\"):\n",
      "“installation of package ‘./pathLocal/paquete.tar.gz’ had non-zero exit status”"
     ]
    },
    {
     "ename": "ERROR",
     "evalue": "Error in library(paquete): there is no package called ‘paquete’\n",
     "output_type": "error",
     "traceback": [
      "Error in library(paquete): there is no package called ‘paquete’\nTraceback:\n",
      "1. library(paquete)"
     ]
    }
   ],
   "source": [
    "## instalación local ##\n",
    "\n",
    "# tendremos que haber descargado antes el paquete de interés, comprimido en formato .tar.gz\n",
    "install.packages(\".../paquete.tar.gz\", type = \"source\")\n",
    "library(paquete)"
   ]
  },
  {
   "cell_type": "markdown",
   "metadata": {
    "button": false,
    "new_sheet": false,
    "run_control": {
     "read_only": false
    }
   },
   "source": [
    "En ocasiones se hace necesario eliminar de la memoria algún paquete que hemos cargado previamente (por ejemplo, porque deseamos cargar una versión que acabamos de actualizar). Para ello basta con ejecutar el comando *detach*"
   ]
  },
  {
   "cell_type": "code",
   "execution_count": null,
   "metadata": {
    "button": false,
    "new_sheet": false,
    "run_control": {
     "read_only": false
    }
   },
   "outputs": [],
   "source": [
    "detach(\"package:R.matlab\")"
   ]
  },
  {
   "cell_type": "markdown",
   "metadata": {
    "button": false,
    "new_sheet": false,
    "run_control": {
     "read_only": false
    }
   },
   "source": [
    "Si queremos eliminar del disco duro un paquete que tengamos instalado, basta ejecutar la función *remove.packages*"
   ]
  },
  {
   "cell_type": "code",
   "execution_count": null,
   "metadata": {
    "button": false,
    "new_sheet": false,
    "run_control": {
     "read_only": false
    }
   },
   "outputs": [],
   "source": [
    "# remove.packages(\"R.matlab\")"
   ]
  },
  {
   "cell_type": "markdown",
   "metadata": {
    "button": false,
    "new_sheet": false,
    "run_control": {
     "read_only": false
    }
   },
   "source": [
    "Para ver un listado de todos los paquetes que tenemos en nuestro ordenador que pueden ser actualizados"
   ]
  },
  {
   "cell_type": "code",
   "execution_count": 203,
   "metadata": {
    "button": false,
    "new_sheet": false,
    "run_control": {
     "read_only": false
    }
   },
   "outputs": [
    {
     "data": {
      "text/html": [
       "<table>\n",
       "<caption>A matrix: 118 × 6 of type chr</caption>\n",
       "<thead>\n",
       "\t<tr><th></th><th scope=col>Package</th><th scope=col>LibPath</th><th scope=col>Installed</th><th scope=col>Built</th><th scope=col>ReposVer</th><th scope=col>Repository</th></tr>\n",
       "</thead>\n",
       "<tbody>\n",
       "\t<tr><th scope=row>akima</th><td>akima     </td><td>/home/rodrigo/R/x86_64-pc-linux-gnu-library/3.6</td><td>0.6-2   </td><td>3.6.0</td><td>0.6-2.1 </td><td>https://cloud.r-project.org/src/contrib</td></tr>\n",
       "\t<tr><th scope=row>backports</th><td>backports </td><td>/home/rodrigo/R/x86_64-pc-linux-gnu-library/3.6</td><td>1.1.5   </td><td>3.6.1</td><td>1.1.10  </td><td>https://cloud.r-project.org/src/contrib</td></tr>\n",
       "\t<tr><th scope=row>BH</th><td>BH        </td><td>/home/rodrigo/R/x86_64-pc-linux-gnu-library/3.6</td><td>1.69.0-1</td><td>3.6.1</td><td>1.72.0-3</td><td>https://cloud.r-project.org/src/contrib</td></tr>\n",
       "\t<tr><th scope=row>broom</th><td>broom     </td><td>/home/rodrigo/R/x86_64-pc-linux-gnu-library/3.6</td><td>0.5.5   </td><td>3.6.3</td><td>0.7.1   </td><td>https://cloud.r-project.org/src/contrib</td></tr>\n",
       "\t<tr><th scope=row>C50</th><td>C50       </td><td>/home/rodrigo/R/x86_64-pc-linux-gnu-library/3.6</td><td>0.1.2   </td><td>3.6.1</td><td>0.1.3.1 </td><td>https://cloud.r-project.org/src/contrib</td></tr>\n",
       "\t<tr><th scope=row>car</th><td>car       </td><td>/home/rodrigo/R/x86_64-pc-linux-gnu-library/3.6</td><td>3.0-4   </td><td>3.6.1</td><td>3.0-10  </td><td>https://cloud.r-project.org/src/contrib</td></tr>\n",
       "\t<tr><th scope=row>carData</th><td>carData   </td><td>/home/rodrigo/R/x86_64-pc-linux-gnu-library/3.6</td><td>3.0-2   </td><td>3.6.1</td><td>3.0-4   </td><td>https://cloud.r-project.org/src/contrib</td></tr>\n",
       "\t<tr><th scope=row>caret</th><td>caret     </td><td>/home/rodrigo/R/x86_64-pc-linux-gnu-library/3.6</td><td>6.0-84  </td><td>3.6.1</td><td>6.0-86  </td><td>https://cloud.r-project.org/src/contrib</td></tr>\n",
       "\t<tr><th scope=row>caTools</th><td>caTools   </td><td>/home/rodrigo/R/x86_64-pc-linux-gnu-library/3.6</td><td>1.17.1.2</td><td>3.6.1</td><td>1.18.0  </td><td>https://cloud.r-project.org/src/contrib</td></tr>\n",
       "\t<tr><th scope=row>classInt</th><td>classInt  </td><td>/home/rodrigo/R/x86_64-pc-linux-gnu-library/3.6</td><td>0.4-2   </td><td>3.6.1</td><td>0.4-3   </td><td>https://cloud.r-project.org/src/contrib</td></tr>\n",
       "\t<tr><th scope=row>clipr</th><td>clipr     </td><td>/home/rodrigo/R/x86_64-pc-linux-gnu-library/3.6</td><td>0.6.0   </td><td>3.6.0</td><td>0.7.1   </td><td>https://cloud.r-project.org/src/contrib</td></tr>\n",
       "\t<tr><th scope=row>cowplot</th><td>cowplot   </td><td>/home/rodrigo/R/x86_64-pc-linux-gnu-library/3.6</td><td>1.0.0   </td><td>3.6.1</td><td>1.1.0   </td><td>https://cloud.r-project.org/src/contrib</td></tr>\n",
       "\t<tr><th scope=row>Cubist</th><td>Cubist    </td><td>/home/rodrigo/R/x86_64-pc-linux-gnu-library/3.6</td><td>0.2.2   </td><td>3.6.1</td><td>0.2.3   </td><td>https://cloud.r-project.org/src/contrib</td></tr>\n",
       "\t<tr><th scope=row>curl</th><td>curl      </td><td>/home/rodrigo/R/x86_64-pc-linux-gnu-library/3.6</td><td>3.3     </td><td>3.6.0</td><td>4.3     </td><td>https://cloud.r-project.org/src/contrib</td></tr>\n",
       "\t<tr><th scope=row>data.table</th><td>data.table</td><td>/home/rodrigo/R/x86_64-pc-linux-gnu-library/3.6</td><td>1.12.6  </td><td>3.6.1</td><td>1.13.0  </td><td>https://cloud.r-project.org/src/contrib</td></tr>\n",
       "\t<tr><th scope=row>DBI</th><td>DBI       </td><td>/home/rodrigo/R/x86_64-pc-linux-gnu-library/3.6</td><td>1.0.0   </td><td>3.6.1</td><td>1.1.0   </td><td>https://cloud.r-project.org/src/contrib</td></tr>\n",
       "\t<tr><th scope=row>dbplyr</th><td>dbplyr    </td><td>/home/rodrigo/R/x86_64-pc-linux-gnu-library/3.6</td><td>1.4.2   </td><td>3.6.3</td><td>1.4.4   </td><td>https://cloud.r-project.org/src/contrib</td></tr>\n",
       "\t<tr><th scope=row>dendextend</th><td>dendextend</td><td>/home/rodrigo/R/x86_64-pc-linux-gnu-library/3.6</td><td>1.12.0  </td><td>3.6.1</td><td>1.14.0  </td><td>https://cloud.r-project.org/src/contrib</td></tr>\n",
       "\t<tr><th scope=row>dplyr</th><td>dplyr     </td><td>/home/rodrigo/R/x86_64-pc-linux-gnu-library/3.6</td><td>0.8.3   </td><td>3.6.1</td><td>1.0.2   </td><td>https://cloud.r-project.org/src/contrib</td></tr>\n",
       "\t<tr><th scope=row>dtw</th><td>dtw       </td><td>/home/rodrigo/R/x86_64-pc-linux-gnu-library/3.6</td><td>1.21-3  </td><td>3.6.1</td><td>1.22-3  </td><td>https://cloud.r-project.org/src/contrib</td></tr>\n",
       "\t<tr><th scope=row>e1071</th><td>e1071     </td><td>/home/rodrigo/R/x86_64-pc-linux-gnu-library/3.6</td><td>1.7-2   </td><td>3.6.1</td><td>1.7-3   </td><td>https://cloud.r-project.org/src/contrib</td></tr>\n",
       "\t<tr><th scope=row>ellipse</th><td>ellipse   </td><td>/home/rodrigo/R/x86_64-pc-linux-gnu-library/3.6</td><td>0.4.1   </td><td>3.6.1</td><td>0.4.2   </td><td>https://cloud.r-project.org/src/contrib</td></tr>\n",
       "\t<tr><th scope=row>factoextra</th><td>factoextra</td><td>/home/rodrigo/R/x86_64-pc-linux-gnu-library/3.6</td><td>1.0.5   </td><td>3.6.1</td><td>1.0.7   </td><td>https://cloud.r-project.org/src/contrib</td></tr>\n",
       "\t<tr><th scope=row>FactoMineR</th><td>FactoMineR</td><td>/home/rodrigo/R/x86_64-pc-linux-gnu-library/3.6</td><td>1.42    </td><td>3.6.1</td><td>2.3     </td><td>https://cloud.r-project.org/src/contrib</td></tr>\n",
       "\t<tr><th scope=row>fields</th><td>fields    </td><td>/home/rodrigo/R/x86_64-pc-linux-gnu-library/3.6</td><td>10.0    </td><td>3.6.1</td><td>11.5    </td><td>https://cloud.r-project.org/src/contrib</td></tr>\n",
       "\t<tr><th scope=row>forcats</th><td>forcats   </td><td>/home/rodrigo/R/x86_64-pc-linux-gnu-library/3.6</td><td>0.4.0   </td><td>3.6.1</td><td>0.5.0   </td><td>https://cloud.r-project.org/src/contrib</td></tr>\n",
       "\t<tr><th scope=row>foreach</th><td>foreach   </td><td>/home/rodrigo/R/x86_64-pc-linux-gnu-library/3.6</td><td>1.4.7   </td><td>3.6.1</td><td>1.5.0   </td><td>https://cloud.r-project.org/src/contrib</td></tr>\n",
       "\t<tr><th scope=row>fs</th><td>fs        </td><td>/home/rodrigo/R/x86_64-pc-linux-gnu-library/3.6</td><td>1.3.1   </td><td>3.6.0</td><td>1.5.0   </td><td>https://cloud.r-project.org/src/contrib</td></tr>\n",
       "\t<tr><th scope=row>gdalUtils</th><td>gdalUtils </td><td>/home/rodrigo/R/x86_64-pc-linux-gnu-library/3.6</td><td>2.0.1.14</td><td>3.6.1</td><td>2.0.3.2 </td><td>https://cloud.r-project.org/src/contrib</td></tr>\n",
       "\t<tr><th scope=row>ggplot2</th><td>ggplot2   </td><td>/home/rodrigo/R/x86_64-pc-linux-gnu-library/3.6</td><td>3.2.1   </td><td>3.6.1</td><td>3.3.2   </td><td>https://cloud.r-project.org/src/contrib</td></tr>\n",
       "\t<tr><th scope=row>⋮</th><td>⋮</td><td>⋮</td><td>⋮</td><td>⋮</td><td>⋮</td><td>⋮</td></tr>\n",
       "\t<tr><th scope=row>rgeos</th><td>rgeos            </td><td>/home/rodrigo/R/x86_64-pc-linux-gnu-library/3.6</td><td>0.5-2      </td><td>3.6.3</td><td>0.5-5  </td><td>https://cloud.r-project.org/src/contrib</td></tr>\n",
       "\t<tr><th scope=row>rJava</th><td>rJava            </td><td>/home/rodrigo/R/x86_64-pc-linux-gnu-library/3.6</td><td>0.9-11     </td><td>3.6.1</td><td>0.9-13 </td><td>https://cloud.r-project.org/src/contrib</td></tr>\n",
       "\t<tr><th scope=row>rmarkdown</th><td>rmarkdown        </td><td>/home/rodrigo/R/x86_64-pc-linux-gnu-library/3.6</td><td>1.15       </td><td>3.6.1</td><td>2.4    </td><td>https://cloud.r-project.org/src/contrib</td></tr>\n",
       "\t<tr><th scope=row>rpart.plot</th><td>rpart.plot       </td><td>/home/rodrigo/R/x86_64-pc-linux-gnu-library/3.6</td><td>3.0.8      </td><td>3.6.1</td><td>3.0.9  </td><td>https://cloud.r-project.org/src/contrib</td></tr>\n",
       "\t<tr><th scope=row>rvcheck</th><td>rvcheck          </td><td>/home/rodrigo/R/x86_64-pc-linux-gnu-library/3.6</td><td>0.1.7      </td><td>3.6.1</td><td>0.1.8  </td><td>https://cloud.r-project.org/src/contrib</td></tr>\n",
       "\t<tr><th scope=row>rvest</th><td>rvest            </td><td>/home/rodrigo/R/x86_64-pc-linux-gnu-library/3.6</td><td>0.3.5      </td><td>3.6.3</td><td>0.3.6  </td><td>https://cloud.r-project.org/src/contrib</td></tr>\n",
       "\t<tr><th scope=row>scales</th><td>scales           </td><td>/home/rodrigo/R/x86_64-pc-linux-gnu-library/3.6</td><td>1.1.0      </td><td>3.6.1</td><td>1.1.1  </td><td>https://cloud.r-project.org/src/contrib</td></tr>\n",
       "\t<tr><th scope=row>sf</th><td>sf               </td><td>/home/rodrigo/R/x86_64-pc-linux-gnu-library/3.6</td><td>0.8-1      </td><td>3.6.3</td><td>0.9-6  </td><td>https://cloud.r-project.org/src/contrib</td></tr>\n",
       "\t<tr><th scope=row>sp</th><td>sp               </td><td>/home/rodrigo/R/x86_64-pc-linux-gnu-library/3.6</td><td>1.3-2      </td><td>3.6.1</td><td>1.4-4  </td><td>https://cloud.r-project.org/src/contrib</td></tr>\n",
       "\t<tr><th scope=row>spam</th><td>spam             </td><td>/home/rodrigo/R/x86_64-pc-linux-gnu-library/3.6</td><td>2.4-0      </td><td>3.6.1</td><td>2.5-1  </td><td>https://cloud.r-project.org/src/contrib</td></tr>\n",
       "\t<tr><th scope=row>SparseM</th><td>SparseM          </td><td>/home/rodrigo/R/x86_64-pc-linux-gnu-library/3.6</td><td>1.77       </td><td>3.6.1</td><td>1.78   </td><td>https://cloud.r-project.org/src/contrib</td></tr>\n",
       "\t<tr><th scope=row>SpecsVerification</th><td>SpecsVerification</td><td>/home/rodrigo/R/x86_64-pc-linux-gnu-library/3.6</td><td>0.5-2      </td><td>3.6.1</td><td>0.5-3  </td><td>https://cloud.r-project.org/src/contrib</td></tr>\n",
       "\t<tr><th scope=row>SQUAREM</th><td>SQUAREM          </td><td>/home/rodrigo/R/x86_64-pc-linux-gnu-library/3.6</td><td>2017.10-1  </td><td>3.6.1</td><td>2020.4 </td><td>https://cloud.r-project.org/src/contrib</td></tr>\n",
       "\t<tr><th scope=row>stringi</th><td>stringi          </td><td>/home/rodrigo/R/x86_64-pc-linux-gnu-library/3.6</td><td>1.4.5      </td><td>3.6.2</td><td>1.5.3  </td><td>https://cloud.r-project.org/src/contrib</td></tr>\n",
       "\t<tr><th scope=row>sys</th><td>sys              </td><td>/home/rodrigo/R/x86_64-pc-linux-gnu-library/3.6</td><td>3.2        </td><td>3.6.0</td><td>3.4    </td><td>https://cloud.r-project.org/src/contrib</td></tr>\n",
       "\t<tr><th scope=row>tensorflow</th><td>tensorflow       </td><td>/home/rodrigo/R/x86_64-pc-linux-gnu-library/3.6</td><td>1.14.0.9000</td><td>3.6.1</td><td>2.2.0  </td><td>https://cloud.r-project.org/src/contrib</td></tr>\n",
       "\t<tr><th scope=row>tibble</th><td>tibble           </td><td>/home/rodrigo/R/x86_64-pc-linux-gnu-library/3.6</td><td>2.1.3      </td><td>3.6.0</td><td>3.0.3  </td><td>https://cloud.r-project.org/src/contrib</td></tr>\n",
       "\t<tr><th scope=row>tidyr</th><td>tidyr            </td><td>/home/rodrigo/R/x86_64-pc-linux-gnu-library/3.6</td><td>1.0.0      </td><td>3.6.1</td><td>1.1.2  </td><td>https://cloud.r-project.org/src/contrib</td></tr>\n",
       "\t<tr><th scope=row>tidyselect</th><td>tidyselect       </td><td>/home/rodrigo/R/x86_64-pc-linux-gnu-library/3.6</td><td>0.2.5      </td><td>3.6.1</td><td>1.1.0  </td><td>https://cloud.r-project.org/src/contrib</td></tr>\n",
       "\t<tr><th scope=row>tinytex</th><td>tinytex          </td><td>/home/rodrigo/R/x86_64-pc-linux-gnu-library/3.6</td><td>0.16       </td><td>3.6.1</td><td>0.26   </td><td>https://cloud.r-project.org/src/contrib</td></tr>\n",
       "\t<tr><th scope=row>units</th><td>units            </td><td>/home/rodrigo/R/x86_64-pc-linux-gnu-library/3.6</td><td>0.6-6      </td><td>3.6.3</td><td>0.6-7  </td><td>https://cloud.r-project.org/src/contrib</td></tr>\n",
       "\t<tr><th scope=row>vctrs</th><td>vctrs            </td><td>/home/rodrigo/R/x86_64-pc-linux-gnu-library/3.6</td><td>0.2.2      </td><td>3.6.2</td><td>0.3.4  </td><td>https://cloud.r-project.org/src/contrib</td></tr>\n",
       "\t<tr><th scope=row>vioplot</th><td>vioplot          </td><td>/home/rodrigo/R/x86_64-pc-linux-gnu-library/3.6</td><td>0.3.3      </td><td>3.6.1</td><td>0.3.5  </td><td>https://cloud.r-project.org/src/contrib</td></tr>\n",
       "\t<tr><th scope=row>xfun</th><td>xfun             </td><td>/home/rodrigo/R/x86_64-pc-linux-gnu-library/3.6</td><td>0.9        </td><td>3.6.1</td><td>0.18   </td><td>https://cloud.r-project.org/src/contrib</td></tr>\n",
       "\t<tr><th scope=row>xlsx</th><td>xlsx             </td><td>/home/rodrigo/R/x86_64-pc-linux-gnu-library/3.6</td><td>0.6.3      </td><td>3.6.3</td><td>0.6.4.2</td><td>https://cloud.r-project.org/src/contrib</td></tr>\n",
       "\t<tr><th scope=row>xml2</th><td>xml2             </td><td>/home/rodrigo/R/x86_64-pc-linux-gnu-library/3.6</td><td>1.2.5      </td><td>3.6.3</td><td>1.3.2  </td><td>https://cloud.r-project.org/src/contrib</td></tr>\n",
       "\t<tr><th scope=row>yaml</th><td>yaml             </td><td>/home/rodrigo/R/x86_64-pc-linux-gnu-library/3.6</td><td>2.2.0      </td><td>3.6.0</td><td>2.2.1  </td><td>https://cloud.r-project.org/src/contrib</td></tr>\n",
       "\t<tr><th scope=row>zip</th><td>zip              </td><td>/home/rodrigo/R/x86_64-pc-linux-gnu-library/3.6</td><td>2.0.4      </td><td>3.6.1</td><td>2.1.1  </td><td>https://cloud.r-project.org/src/contrib</td></tr>\n",
       "\t<tr><th scope=row>zoo</th><td>zoo              </td><td>/home/rodrigo/R/x86_64-pc-linux-gnu-library/3.6</td><td>1.8-6      </td><td>3.6.1</td><td>1.8-8  </td><td>https://cloud.r-project.org/src/contrib</td></tr>\n",
       "\t<tr><th scope=row>spatial</th><td>spatial          </td><td>/usr/lib/R/library                             </td><td>7.3-11     </td><td>3.5.0</td><td>7.3-12 </td><td>https://cloud.r-project.org/src/contrib</td></tr>\n",
       "</tbody>\n",
       "</table>\n"
      ],
      "text/latex": [
       "A matrix: 118 × 6 of type chr\n",
       "\\begin{tabular}{r|llllll}\n",
       "  & Package & LibPath & Installed & Built & ReposVer & Repository\\\\\n",
       "\\hline\n",
       "\takima & akima      & /home/rodrigo/R/x86\\_64-pc-linux-gnu-library/3.6 & 0.6-2    & 3.6.0 & 0.6-2.1  & https://cloud.r-project.org/src/contrib\\\\\n",
       "\tbackports & backports  & /home/rodrigo/R/x86\\_64-pc-linux-gnu-library/3.6 & 1.1.5    & 3.6.1 & 1.1.10   & https://cloud.r-project.org/src/contrib\\\\\n",
       "\tBH & BH         & /home/rodrigo/R/x86\\_64-pc-linux-gnu-library/3.6 & 1.69.0-1 & 3.6.1 & 1.72.0-3 & https://cloud.r-project.org/src/contrib\\\\\n",
       "\tbroom & broom      & /home/rodrigo/R/x86\\_64-pc-linux-gnu-library/3.6 & 0.5.5    & 3.6.3 & 0.7.1    & https://cloud.r-project.org/src/contrib\\\\\n",
       "\tC50 & C50        & /home/rodrigo/R/x86\\_64-pc-linux-gnu-library/3.6 & 0.1.2    & 3.6.1 & 0.1.3.1  & https://cloud.r-project.org/src/contrib\\\\\n",
       "\tcar & car        & /home/rodrigo/R/x86\\_64-pc-linux-gnu-library/3.6 & 3.0-4    & 3.6.1 & 3.0-10   & https://cloud.r-project.org/src/contrib\\\\\n",
       "\tcarData & carData    & /home/rodrigo/R/x86\\_64-pc-linux-gnu-library/3.6 & 3.0-2    & 3.6.1 & 3.0-4    & https://cloud.r-project.org/src/contrib\\\\\n",
       "\tcaret & caret      & /home/rodrigo/R/x86\\_64-pc-linux-gnu-library/3.6 & 6.0-84   & 3.6.1 & 6.0-86   & https://cloud.r-project.org/src/contrib\\\\\n",
       "\tcaTools & caTools    & /home/rodrigo/R/x86\\_64-pc-linux-gnu-library/3.6 & 1.17.1.2 & 3.6.1 & 1.18.0   & https://cloud.r-project.org/src/contrib\\\\\n",
       "\tclassInt & classInt   & /home/rodrigo/R/x86\\_64-pc-linux-gnu-library/3.6 & 0.4-2    & 3.6.1 & 0.4-3    & https://cloud.r-project.org/src/contrib\\\\\n",
       "\tclipr & clipr      & /home/rodrigo/R/x86\\_64-pc-linux-gnu-library/3.6 & 0.6.0    & 3.6.0 & 0.7.1    & https://cloud.r-project.org/src/contrib\\\\\n",
       "\tcowplot & cowplot    & /home/rodrigo/R/x86\\_64-pc-linux-gnu-library/3.6 & 1.0.0    & 3.6.1 & 1.1.0    & https://cloud.r-project.org/src/contrib\\\\\n",
       "\tCubist & Cubist     & /home/rodrigo/R/x86\\_64-pc-linux-gnu-library/3.6 & 0.2.2    & 3.6.1 & 0.2.3    & https://cloud.r-project.org/src/contrib\\\\\n",
       "\tcurl & curl       & /home/rodrigo/R/x86\\_64-pc-linux-gnu-library/3.6 & 3.3      & 3.6.0 & 4.3      & https://cloud.r-project.org/src/contrib\\\\\n",
       "\tdata.table & data.table & /home/rodrigo/R/x86\\_64-pc-linux-gnu-library/3.6 & 1.12.6   & 3.6.1 & 1.13.0   & https://cloud.r-project.org/src/contrib\\\\\n",
       "\tDBI & DBI        & /home/rodrigo/R/x86\\_64-pc-linux-gnu-library/3.6 & 1.0.0    & 3.6.1 & 1.1.0    & https://cloud.r-project.org/src/contrib\\\\\n",
       "\tdbplyr & dbplyr     & /home/rodrigo/R/x86\\_64-pc-linux-gnu-library/3.6 & 1.4.2    & 3.6.3 & 1.4.4    & https://cloud.r-project.org/src/contrib\\\\\n",
       "\tdendextend & dendextend & /home/rodrigo/R/x86\\_64-pc-linux-gnu-library/3.6 & 1.12.0   & 3.6.1 & 1.14.0   & https://cloud.r-project.org/src/contrib\\\\\n",
       "\tdplyr & dplyr      & /home/rodrigo/R/x86\\_64-pc-linux-gnu-library/3.6 & 0.8.3    & 3.6.1 & 1.0.2    & https://cloud.r-project.org/src/contrib\\\\\n",
       "\tdtw & dtw        & /home/rodrigo/R/x86\\_64-pc-linux-gnu-library/3.6 & 1.21-3   & 3.6.1 & 1.22-3   & https://cloud.r-project.org/src/contrib\\\\\n",
       "\te1071 & e1071      & /home/rodrigo/R/x86\\_64-pc-linux-gnu-library/3.6 & 1.7-2    & 3.6.1 & 1.7-3    & https://cloud.r-project.org/src/contrib\\\\\n",
       "\tellipse & ellipse    & /home/rodrigo/R/x86\\_64-pc-linux-gnu-library/3.6 & 0.4.1    & 3.6.1 & 0.4.2    & https://cloud.r-project.org/src/contrib\\\\\n",
       "\tfactoextra & factoextra & /home/rodrigo/R/x86\\_64-pc-linux-gnu-library/3.6 & 1.0.5    & 3.6.1 & 1.0.7    & https://cloud.r-project.org/src/contrib\\\\\n",
       "\tFactoMineR & FactoMineR & /home/rodrigo/R/x86\\_64-pc-linux-gnu-library/3.6 & 1.42     & 3.6.1 & 2.3      & https://cloud.r-project.org/src/contrib\\\\\n",
       "\tfields & fields     & /home/rodrigo/R/x86\\_64-pc-linux-gnu-library/3.6 & 10.0     & 3.6.1 & 11.5     & https://cloud.r-project.org/src/contrib\\\\\n",
       "\tforcats & forcats    & /home/rodrigo/R/x86\\_64-pc-linux-gnu-library/3.6 & 0.4.0    & 3.6.1 & 0.5.0    & https://cloud.r-project.org/src/contrib\\\\\n",
       "\tforeach & foreach    & /home/rodrigo/R/x86\\_64-pc-linux-gnu-library/3.6 & 1.4.7    & 3.6.1 & 1.5.0    & https://cloud.r-project.org/src/contrib\\\\\n",
       "\tfs & fs         & /home/rodrigo/R/x86\\_64-pc-linux-gnu-library/3.6 & 1.3.1    & 3.6.0 & 1.5.0    & https://cloud.r-project.org/src/contrib\\\\\n",
       "\tgdalUtils & gdalUtils  & /home/rodrigo/R/x86\\_64-pc-linux-gnu-library/3.6 & 2.0.1.14 & 3.6.1 & 2.0.3.2  & https://cloud.r-project.org/src/contrib\\\\\n",
       "\tggplot2 & ggplot2    & /home/rodrigo/R/x86\\_64-pc-linux-gnu-library/3.6 & 3.2.1    & 3.6.1 & 3.3.2    & https://cloud.r-project.org/src/contrib\\\\\n",
       "\t⋮ & ⋮ & ⋮ & ⋮ & ⋮ & ⋮ & ⋮\\\\\n",
       "\trgeos & rgeos             & /home/rodrigo/R/x86\\_64-pc-linux-gnu-library/3.6 & 0.5-2       & 3.6.3 & 0.5-5   & https://cloud.r-project.org/src/contrib\\\\\n",
       "\trJava & rJava             & /home/rodrigo/R/x86\\_64-pc-linux-gnu-library/3.6 & 0.9-11      & 3.6.1 & 0.9-13  & https://cloud.r-project.org/src/contrib\\\\\n",
       "\trmarkdown & rmarkdown         & /home/rodrigo/R/x86\\_64-pc-linux-gnu-library/3.6 & 1.15        & 3.6.1 & 2.4     & https://cloud.r-project.org/src/contrib\\\\\n",
       "\trpart.plot & rpart.plot        & /home/rodrigo/R/x86\\_64-pc-linux-gnu-library/3.6 & 3.0.8       & 3.6.1 & 3.0.9   & https://cloud.r-project.org/src/contrib\\\\\n",
       "\trvcheck & rvcheck           & /home/rodrigo/R/x86\\_64-pc-linux-gnu-library/3.6 & 0.1.7       & 3.6.1 & 0.1.8   & https://cloud.r-project.org/src/contrib\\\\\n",
       "\trvest & rvest             & /home/rodrigo/R/x86\\_64-pc-linux-gnu-library/3.6 & 0.3.5       & 3.6.3 & 0.3.6   & https://cloud.r-project.org/src/contrib\\\\\n",
       "\tscales & scales            & /home/rodrigo/R/x86\\_64-pc-linux-gnu-library/3.6 & 1.1.0       & 3.6.1 & 1.1.1   & https://cloud.r-project.org/src/contrib\\\\\n",
       "\tsf & sf                & /home/rodrigo/R/x86\\_64-pc-linux-gnu-library/3.6 & 0.8-1       & 3.6.3 & 0.9-6   & https://cloud.r-project.org/src/contrib\\\\\n",
       "\tsp & sp                & /home/rodrigo/R/x86\\_64-pc-linux-gnu-library/3.6 & 1.3-2       & 3.6.1 & 1.4-4   & https://cloud.r-project.org/src/contrib\\\\\n",
       "\tspam & spam              & /home/rodrigo/R/x86\\_64-pc-linux-gnu-library/3.6 & 2.4-0       & 3.6.1 & 2.5-1   & https://cloud.r-project.org/src/contrib\\\\\n",
       "\tSparseM & SparseM           & /home/rodrigo/R/x86\\_64-pc-linux-gnu-library/3.6 & 1.77        & 3.6.1 & 1.78    & https://cloud.r-project.org/src/contrib\\\\\n",
       "\tSpecsVerification & SpecsVerification & /home/rodrigo/R/x86\\_64-pc-linux-gnu-library/3.6 & 0.5-2       & 3.6.1 & 0.5-3   & https://cloud.r-project.org/src/contrib\\\\\n",
       "\tSQUAREM & SQUAREM           & /home/rodrigo/R/x86\\_64-pc-linux-gnu-library/3.6 & 2017.10-1   & 3.6.1 & 2020.4  & https://cloud.r-project.org/src/contrib\\\\\n",
       "\tstringi & stringi           & /home/rodrigo/R/x86\\_64-pc-linux-gnu-library/3.6 & 1.4.5       & 3.6.2 & 1.5.3   & https://cloud.r-project.org/src/contrib\\\\\n",
       "\tsys & sys               & /home/rodrigo/R/x86\\_64-pc-linux-gnu-library/3.6 & 3.2         & 3.6.0 & 3.4     & https://cloud.r-project.org/src/contrib\\\\\n",
       "\ttensorflow & tensorflow        & /home/rodrigo/R/x86\\_64-pc-linux-gnu-library/3.6 & 1.14.0.9000 & 3.6.1 & 2.2.0   & https://cloud.r-project.org/src/contrib\\\\\n",
       "\ttibble & tibble            & /home/rodrigo/R/x86\\_64-pc-linux-gnu-library/3.6 & 2.1.3       & 3.6.0 & 3.0.3   & https://cloud.r-project.org/src/contrib\\\\\n",
       "\ttidyr & tidyr             & /home/rodrigo/R/x86\\_64-pc-linux-gnu-library/3.6 & 1.0.0       & 3.6.1 & 1.1.2   & https://cloud.r-project.org/src/contrib\\\\\n",
       "\ttidyselect & tidyselect        & /home/rodrigo/R/x86\\_64-pc-linux-gnu-library/3.6 & 0.2.5       & 3.6.1 & 1.1.0   & https://cloud.r-project.org/src/contrib\\\\\n",
       "\ttinytex & tinytex           & /home/rodrigo/R/x86\\_64-pc-linux-gnu-library/3.6 & 0.16        & 3.6.1 & 0.26    & https://cloud.r-project.org/src/contrib\\\\\n",
       "\tunits & units             & /home/rodrigo/R/x86\\_64-pc-linux-gnu-library/3.6 & 0.6-6       & 3.6.3 & 0.6-7   & https://cloud.r-project.org/src/contrib\\\\\n",
       "\tvctrs & vctrs             & /home/rodrigo/R/x86\\_64-pc-linux-gnu-library/3.6 & 0.2.2       & 3.6.2 & 0.3.4   & https://cloud.r-project.org/src/contrib\\\\\n",
       "\tvioplot & vioplot           & /home/rodrigo/R/x86\\_64-pc-linux-gnu-library/3.6 & 0.3.3       & 3.6.1 & 0.3.5   & https://cloud.r-project.org/src/contrib\\\\\n",
       "\txfun & xfun              & /home/rodrigo/R/x86\\_64-pc-linux-gnu-library/3.6 & 0.9         & 3.6.1 & 0.18    & https://cloud.r-project.org/src/contrib\\\\\n",
       "\txlsx & xlsx              & /home/rodrigo/R/x86\\_64-pc-linux-gnu-library/3.6 & 0.6.3       & 3.6.3 & 0.6.4.2 & https://cloud.r-project.org/src/contrib\\\\\n",
       "\txml2 & xml2              & /home/rodrigo/R/x86\\_64-pc-linux-gnu-library/3.6 & 1.2.5       & 3.6.3 & 1.3.2   & https://cloud.r-project.org/src/contrib\\\\\n",
       "\tyaml & yaml              & /home/rodrigo/R/x86\\_64-pc-linux-gnu-library/3.6 & 2.2.0       & 3.6.0 & 2.2.1   & https://cloud.r-project.org/src/contrib\\\\\n",
       "\tzip & zip               & /home/rodrigo/R/x86\\_64-pc-linux-gnu-library/3.6 & 2.0.4       & 3.6.1 & 2.1.1   & https://cloud.r-project.org/src/contrib\\\\\n",
       "\tzoo & zoo               & /home/rodrigo/R/x86\\_64-pc-linux-gnu-library/3.6 & 1.8-6       & 3.6.1 & 1.8-8   & https://cloud.r-project.org/src/contrib\\\\\n",
       "\tspatial & spatial           & /usr/lib/R/library                              & 7.3-11      & 3.5.0 & 7.3-12  & https://cloud.r-project.org/src/contrib\\\\\n",
       "\\end{tabular}\n"
      ],
      "text/markdown": [
       "\n",
       "A matrix: 118 × 6 of type chr\n",
       "\n",
       "| <!--/--> | Package | LibPath | Installed | Built | ReposVer | Repository |\n",
       "|---|---|---|---|---|---|---|\n",
       "| akima | akima      | /home/rodrigo/R/x86_64-pc-linux-gnu-library/3.6 | 0.6-2    | 3.6.0 | 0.6-2.1  | https://cloud.r-project.org/src/contrib |\n",
       "| backports | backports  | /home/rodrigo/R/x86_64-pc-linux-gnu-library/3.6 | 1.1.5    | 3.6.1 | 1.1.10   | https://cloud.r-project.org/src/contrib |\n",
       "| BH | BH         | /home/rodrigo/R/x86_64-pc-linux-gnu-library/3.6 | 1.69.0-1 | 3.6.1 | 1.72.0-3 | https://cloud.r-project.org/src/contrib |\n",
       "| broom | broom      | /home/rodrigo/R/x86_64-pc-linux-gnu-library/3.6 | 0.5.5    | 3.6.3 | 0.7.1    | https://cloud.r-project.org/src/contrib |\n",
       "| C50 | C50        | /home/rodrigo/R/x86_64-pc-linux-gnu-library/3.6 | 0.1.2    | 3.6.1 | 0.1.3.1  | https://cloud.r-project.org/src/contrib |\n",
       "| car | car        | /home/rodrigo/R/x86_64-pc-linux-gnu-library/3.6 | 3.0-4    | 3.6.1 | 3.0-10   | https://cloud.r-project.org/src/contrib |\n",
       "| carData | carData    | /home/rodrigo/R/x86_64-pc-linux-gnu-library/3.6 | 3.0-2    | 3.6.1 | 3.0-4    | https://cloud.r-project.org/src/contrib |\n",
       "| caret | caret      | /home/rodrigo/R/x86_64-pc-linux-gnu-library/3.6 | 6.0-84   | 3.6.1 | 6.0-86   | https://cloud.r-project.org/src/contrib |\n",
       "| caTools | caTools    | /home/rodrigo/R/x86_64-pc-linux-gnu-library/3.6 | 1.17.1.2 | 3.6.1 | 1.18.0   | https://cloud.r-project.org/src/contrib |\n",
       "| classInt | classInt   | /home/rodrigo/R/x86_64-pc-linux-gnu-library/3.6 | 0.4-2    | 3.6.1 | 0.4-3    | https://cloud.r-project.org/src/contrib |\n",
       "| clipr | clipr      | /home/rodrigo/R/x86_64-pc-linux-gnu-library/3.6 | 0.6.0    | 3.6.0 | 0.7.1    | https://cloud.r-project.org/src/contrib |\n",
       "| cowplot | cowplot    | /home/rodrigo/R/x86_64-pc-linux-gnu-library/3.6 | 1.0.0    | 3.6.1 | 1.1.0    | https://cloud.r-project.org/src/contrib |\n",
       "| Cubist | Cubist     | /home/rodrigo/R/x86_64-pc-linux-gnu-library/3.6 | 0.2.2    | 3.6.1 | 0.2.3    | https://cloud.r-project.org/src/contrib |\n",
       "| curl | curl       | /home/rodrigo/R/x86_64-pc-linux-gnu-library/3.6 | 3.3      | 3.6.0 | 4.3      | https://cloud.r-project.org/src/contrib |\n",
       "| data.table | data.table | /home/rodrigo/R/x86_64-pc-linux-gnu-library/3.6 | 1.12.6   | 3.6.1 | 1.13.0   | https://cloud.r-project.org/src/contrib |\n",
       "| DBI | DBI        | /home/rodrigo/R/x86_64-pc-linux-gnu-library/3.6 | 1.0.0    | 3.6.1 | 1.1.0    | https://cloud.r-project.org/src/contrib |\n",
       "| dbplyr | dbplyr     | /home/rodrigo/R/x86_64-pc-linux-gnu-library/3.6 | 1.4.2    | 3.6.3 | 1.4.4    | https://cloud.r-project.org/src/contrib |\n",
       "| dendextend | dendextend | /home/rodrigo/R/x86_64-pc-linux-gnu-library/3.6 | 1.12.0   | 3.6.1 | 1.14.0   | https://cloud.r-project.org/src/contrib |\n",
       "| dplyr | dplyr      | /home/rodrigo/R/x86_64-pc-linux-gnu-library/3.6 | 0.8.3    | 3.6.1 | 1.0.2    | https://cloud.r-project.org/src/contrib |\n",
       "| dtw | dtw        | /home/rodrigo/R/x86_64-pc-linux-gnu-library/3.6 | 1.21-3   | 3.6.1 | 1.22-3   | https://cloud.r-project.org/src/contrib |\n",
       "| e1071 | e1071      | /home/rodrigo/R/x86_64-pc-linux-gnu-library/3.6 | 1.7-2    | 3.6.1 | 1.7-3    | https://cloud.r-project.org/src/contrib |\n",
       "| ellipse | ellipse    | /home/rodrigo/R/x86_64-pc-linux-gnu-library/3.6 | 0.4.1    | 3.6.1 | 0.4.2    | https://cloud.r-project.org/src/contrib |\n",
       "| factoextra | factoextra | /home/rodrigo/R/x86_64-pc-linux-gnu-library/3.6 | 1.0.5    | 3.6.1 | 1.0.7    | https://cloud.r-project.org/src/contrib |\n",
       "| FactoMineR | FactoMineR | /home/rodrigo/R/x86_64-pc-linux-gnu-library/3.6 | 1.42     | 3.6.1 | 2.3      | https://cloud.r-project.org/src/contrib |\n",
       "| fields | fields     | /home/rodrigo/R/x86_64-pc-linux-gnu-library/3.6 | 10.0     | 3.6.1 | 11.5     | https://cloud.r-project.org/src/contrib |\n",
       "| forcats | forcats    | /home/rodrigo/R/x86_64-pc-linux-gnu-library/3.6 | 0.4.0    | 3.6.1 | 0.5.0    | https://cloud.r-project.org/src/contrib |\n",
       "| foreach | foreach    | /home/rodrigo/R/x86_64-pc-linux-gnu-library/3.6 | 1.4.7    | 3.6.1 | 1.5.0    | https://cloud.r-project.org/src/contrib |\n",
       "| fs | fs         | /home/rodrigo/R/x86_64-pc-linux-gnu-library/3.6 | 1.3.1    | 3.6.0 | 1.5.0    | https://cloud.r-project.org/src/contrib |\n",
       "| gdalUtils | gdalUtils  | /home/rodrigo/R/x86_64-pc-linux-gnu-library/3.6 | 2.0.1.14 | 3.6.1 | 2.0.3.2  | https://cloud.r-project.org/src/contrib |\n",
       "| ggplot2 | ggplot2    | /home/rodrigo/R/x86_64-pc-linux-gnu-library/3.6 | 3.2.1    | 3.6.1 | 3.3.2    | https://cloud.r-project.org/src/contrib |\n",
       "| ⋮ | ⋮ | ⋮ | ⋮ | ⋮ | ⋮ | ⋮ |\n",
       "| rgeos | rgeos             | /home/rodrigo/R/x86_64-pc-linux-gnu-library/3.6 | 0.5-2       | 3.6.3 | 0.5-5   | https://cloud.r-project.org/src/contrib |\n",
       "| rJava | rJava             | /home/rodrigo/R/x86_64-pc-linux-gnu-library/3.6 | 0.9-11      | 3.6.1 | 0.9-13  | https://cloud.r-project.org/src/contrib |\n",
       "| rmarkdown | rmarkdown         | /home/rodrigo/R/x86_64-pc-linux-gnu-library/3.6 | 1.15        | 3.6.1 | 2.4     | https://cloud.r-project.org/src/contrib |\n",
       "| rpart.plot | rpart.plot        | /home/rodrigo/R/x86_64-pc-linux-gnu-library/3.6 | 3.0.8       | 3.6.1 | 3.0.9   | https://cloud.r-project.org/src/contrib |\n",
       "| rvcheck | rvcheck           | /home/rodrigo/R/x86_64-pc-linux-gnu-library/3.6 | 0.1.7       | 3.6.1 | 0.1.8   | https://cloud.r-project.org/src/contrib |\n",
       "| rvest | rvest             | /home/rodrigo/R/x86_64-pc-linux-gnu-library/3.6 | 0.3.5       | 3.6.3 | 0.3.6   | https://cloud.r-project.org/src/contrib |\n",
       "| scales | scales            | /home/rodrigo/R/x86_64-pc-linux-gnu-library/3.6 | 1.1.0       | 3.6.1 | 1.1.1   | https://cloud.r-project.org/src/contrib |\n",
       "| sf | sf                | /home/rodrigo/R/x86_64-pc-linux-gnu-library/3.6 | 0.8-1       | 3.6.3 | 0.9-6   | https://cloud.r-project.org/src/contrib |\n",
       "| sp | sp                | /home/rodrigo/R/x86_64-pc-linux-gnu-library/3.6 | 1.3-2       | 3.6.1 | 1.4-4   | https://cloud.r-project.org/src/contrib |\n",
       "| spam | spam              | /home/rodrigo/R/x86_64-pc-linux-gnu-library/3.6 | 2.4-0       | 3.6.1 | 2.5-1   | https://cloud.r-project.org/src/contrib |\n",
       "| SparseM | SparseM           | /home/rodrigo/R/x86_64-pc-linux-gnu-library/3.6 | 1.77        | 3.6.1 | 1.78    | https://cloud.r-project.org/src/contrib |\n",
       "| SpecsVerification | SpecsVerification | /home/rodrigo/R/x86_64-pc-linux-gnu-library/3.6 | 0.5-2       | 3.6.1 | 0.5-3   | https://cloud.r-project.org/src/contrib |\n",
       "| SQUAREM | SQUAREM           | /home/rodrigo/R/x86_64-pc-linux-gnu-library/3.6 | 2017.10-1   | 3.6.1 | 2020.4  | https://cloud.r-project.org/src/contrib |\n",
       "| stringi | stringi           | /home/rodrigo/R/x86_64-pc-linux-gnu-library/3.6 | 1.4.5       | 3.6.2 | 1.5.3   | https://cloud.r-project.org/src/contrib |\n",
       "| sys | sys               | /home/rodrigo/R/x86_64-pc-linux-gnu-library/3.6 | 3.2         | 3.6.0 | 3.4     | https://cloud.r-project.org/src/contrib |\n",
       "| tensorflow | tensorflow        | /home/rodrigo/R/x86_64-pc-linux-gnu-library/3.6 | 1.14.0.9000 | 3.6.1 | 2.2.0   | https://cloud.r-project.org/src/contrib |\n",
       "| tibble | tibble            | /home/rodrigo/R/x86_64-pc-linux-gnu-library/3.6 | 2.1.3       | 3.6.0 | 3.0.3   | https://cloud.r-project.org/src/contrib |\n",
       "| tidyr | tidyr             | /home/rodrigo/R/x86_64-pc-linux-gnu-library/3.6 | 1.0.0       | 3.6.1 | 1.1.2   | https://cloud.r-project.org/src/contrib |\n",
       "| tidyselect | tidyselect        | /home/rodrigo/R/x86_64-pc-linux-gnu-library/3.6 | 0.2.5       | 3.6.1 | 1.1.0   | https://cloud.r-project.org/src/contrib |\n",
       "| tinytex | tinytex           | /home/rodrigo/R/x86_64-pc-linux-gnu-library/3.6 | 0.16        | 3.6.1 | 0.26    | https://cloud.r-project.org/src/contrib |\n",
       "| units | units             | /home/rodrigo/R/x86_64-pc-linux-gnu-library/3.6 | 0.6-6       | 3.6.3 | 0.6-7   | https://cloud.r-project.org/src/contrib |\n",
       "| vctrs | vctrs             | /home/rodrigo/R/x86_64-pc-linux-gnu-library/3.6 | 0.2.2       | 3.6.2 | 0.3.4   | https://cloud.r-project.org/src/contrib |\n",
       "| vioplot | vioplot           | /home/rodrigo/R/x86_64-pc-linux-gnu-library/3.6 | 0.3.3       | 3.6.1 | 0.3.5   | https://cloud.r-project.org/src/contrib |\n",
       "| xfun | xfun              | /home/rodrigo/R/x86_64-pc-linux-gnu-library/3.6 | 0.9         | 3.6.1 | 0.18    | https://cloud.r-project.org/src/contrib |\n",
       "| xlsx | xlsx              | /home/rodrigo/R/x86_64-pc-linux-gnu-library/3.6 | 0.6.3       | 3.6.3 | 0.6.4.2 | https://cloud.r-project.org/src/contrib |\n",
       "| xml2 | xml2              | /home/rodrigo/R/x86_64-pc-linux-gnu-library/3.6 | 1.2.5       | 3.6.3 | 1.3.2   | https://cloud.r-project.org/src/contrib |\n",
       "| yaml | yaml              | /home/rodrigo/R/x86_64-pc-linux-gnu-library/3.6 | 2.2.0       | 3.6.0 | 2.2.1   | https://cloud.r-project.org/src/contrib |\n",
       "| zip | zip               | /home/rodrigo/R/x86_64-pc-linux-gnu-library/3.6 | 2.0.4       | 3.6.1 | 2.1.1   | https://cloud.r-project.org/src/contrib |\n",
       "| zoo | zoo               | /home/rodrigo/R/x86_64-pc-linux-gnu-library/3.6 | 1.8-6       | 3.6.1 | 1.8-8   | https://cloud.r-project.org/src/contrib |\n",
       "| spatial | spatial           | /usr/lib/R/library                              | 7.3-11      | 3.5.0 | 7.3-12  | https://cloud.r-project.org/src/contrib |\n",
       "\n"
      ],
      "text/plain": [
       "                  Package          \n",
       "akima             akima            \n",
       "backports         backports        \n",
       "BH                BH               \n",
       "broom             broom            \n",
       "C50               C50              \n",
       "car               car              \n",
       "carData           carData          \n",
       "caret             caret            \n",
       "caTools           caTools          \n",
       "classInt          classInt         \n",
       "clipr             clipr            \n",
       "cowplot           cowplot          \n",
       "Cubist            Cubist           \n",
       "curl              curl             \n",
       "data.table        data.table       \n",
       "DBI               DBI              \n",
       "dbplyr            dbplyr           \n",
       "dendextend        dendextend       \n",
       "dplyr             dplyr            \n",
       "dtw               dtw              \n",
       "e1071             e1071            \n",
       "ellipse           ellipse          \n",
       "factoextra        factoextra       \n",
       "FactoMineR        FactoMineR       \n",
       "fields            fields           \n",
       "forcats           forcats          \n",
       "foreach           foreach          \n",
       "fs                fs               \n",
       "gdalUtils         gdalUtils        \n",
       "ggplot2           ggplot2          \n",
       "⋮                 ⋮                \n",
       "rgeos             rgeos            \n",
       "rJava             rJava            \n",
       "rmarkdown         rmarkdown        \n",
       "rpart.plot        rpart.plot       \n",
       "rvcheck           rvcheck          \n",
       "rvest             rvest            \n",
       "scales            scales           \n",
       "sf                sf               \n",
       "sp                sp               \n",
       "spam              spam             \n",
       "SparseM           SparseM          \n",
       "SpecsVerification SpecsVerification\n",
       "SQUAREM           SQUAREM          \n",
       "stringi           stringi          \n",
       "sys               sys              \n",
       "tensorflow        tensorflow       \n",
       "tibble            tibble           \n",
       "tidyr             tidyr            \n",
       "tidyselect        tidyselect       \n",
       "tinytex           tinytex          \n",
       "units             units            \n",
       "vctrs             vctrs            \n",
       "vioplot           vioplot          \n",
       "xfun              xfun             \n",
       "xlsx              xlsx             \n",
       "xml2              xml2             \n",
       "yaml              yaml             \n",
       "zip               zip              \n",
       "zoo               zoo              \n",
       "spatial           spatial          \n",
       "                  LibPath                                         Installed  \n",
       "akima             /home/rodrigo/R/x86_64-pc-linux-gnu-library/3.6 0.6-2      \n",
       "backports         /home/rodrigo/R/x86_64-pc-linux-gnu-library/3.6 1.1.5      \n",
       "BH                /home/rodrigo/R/x86_64-pc-linux-gnu-library/3.6 1.69.0-1   \n",
       "broom             /home/rodrigo/R/x86_64-pc-linux-gnu-library/3.6 0.5.5      \n",
       "C50               /home/rodrigo/R/x86_64-pc-linux-gnu-library/3.6 0.1.2      \n",
       "car               /home/rodrigo/R/x86_64-pc-linux-gnu-library/3.6 3.0-4      \n",
       "carData           /home/rodrigo/R/x86_64-pc-linux-gnu-library/3.6 3.0-2      \n",
       "caret             /home/rodrigo/R/x86_64-pc-linux-gnu-library/3.6 6.0-84     \n",
       "caTools           /home/rodrigo/R/x86_64-pc-linux-gnu-library/3.6 1.17.1.2   \n",
       "classInt          /home/rodrigo/R/x86_64-pc-linux-gnu-library/3.6 0.4-2      \n",
       "clipr             /home/rodrigo/R/x86_64-pc-linux-gnu-library/3.6 0.6.0      \n",
       "cowplot           /home/rodrigo/R/x86_64-pc-linux-gnu-library/3.6 1.0.0      \n",
       "Cubist            /home/rodrigo/R/x86_64-pc-linux-gnu-library/3.6 0.2.2      \n",
       "curl              /home/rodrigo/R/x86_64-pc-linux-gnu-library/3.6 3.3        \n",
       "data.table        /home/rodrigo/R/x86_64-pc-linux-gnu-library/3.6 1.12.6     \n",
       "DBI               /home/rodrigo/R/x86_64-pc-linux-gnu-library/3.6 1.0.0      \n",
       "dbplyr            /home/rodrigo/R/x86_64-pc-linux-gnu-library/3.6 1.4.2      \n",
       "dendextend        /home/rodrigo/R/x86_64-pc-linux-gnu-library/3.6 1.12.0     \n",
       "dplyr             /home/rodrigo/R/x86_64-pc-linux-gnu-library/3.6 0.8.3      \n",
       "dtw               /home/rodrigo/R/x86_64-pc-linux-gnu-library/3.6 1.21-3     \n",
       "e1071             /home/rodrigo/R/x86_64-pc-linux-gnu-library/3.6 1.7-2      \n",
       "ellipse           /home/rodrigo/R/x86_64-pc-linux-gnu-library/3.6 0.4.1      \n",
       "factoextra        /home/rodrigo/R/x86_64-pc-linux-gnu-library/3.6 1.0.5      \n",
       "FactoMineR        /home/rodrigo/R/x86_64-pc-linux-gnu-library/3.6 1.42       \n",
       "fields            /home/rodrigo/R/x86_64-pc-linux-gnu-library/3.6 10.0       \n",
       "forcats           /home/rodrigo/R/x86_64-pc-linux-gnu-library/3.6 0.4.0      \n",
       "foreach           /home/rodrigo/R/x86_64-pc-linux-gnu-library/3.6 1.4.7      \n",
       "fs                /home/rodrigo/R/x86_64-pc-linux-gnu-library/3.6 1.3.1      \n",
       "gdalUtils         /home/rodrigo/R/x86_64-pc-linux-gnu-library/3.6 2.0.1.14   \n",
       "ggplot2           /home/rodrigo/R/x86_64-pc-linux-gnu-library/3.6 3.2.1      \n",
       "⋮                 ⋮                                               ⋮          \n",
       "rgeos             /home/rodrigo/R/x86_64-pc-linux-gnu-library/3.6 0.5-2      \n",
       "rJava             /home/rodrigo/R/x86_64-pc-linux-gnu-library/3.6 0.9-11     \n",
       "rmarkdown         /home/rodrigo/R/x86_64-pc-linux-gnu-library/3.6 1.15       \n",
       "rpart.plot        /home/rodrigo/R/x86_64-pc-linux-gnu-library/3.6 3.0.8      \n",
       "rvcheck           /home/rodrigo/R/x86_64-pc-linux-gnu-library/3.6 0.1.7      \n",
       "rvest             /home/rodrigo/R/x86_64-pc-linux-gnu-library/3.6 0.3.5      \n",
       "scales            /home/rodrigo/R/x86_64-pc-linux-gnu-library/3.6 1.1.0      \n",
       "sf                /home/rodrigo/R/x86_64-pc-linux-gnu-library/3.6 0.8-1      \n",
       "sp                /home/rodrigo/R/x86_64-pc-linux-gnu-library/3.6 1.3-2      \n",
       "spam              /home/rodrigo/R/x86_64-pc-linux-gnu-library/3.6 2.4-0      \n",
       "SparseM           /home/rodrigo/R/x86_64-pc-linux-gnu-library/3.6 1.77       \n",
       "SpecsVerification /home/rodrigo/R/x86_64-pc-linux-gnu-library/3.6 0.5-2      \n",
       "SQUAREM           /home/rodrigo/R/x86_64-pc-linux-gnu-library/3.6 2017.10-1  \n",
       "stringi           /home/rodrigo/R/x86_64-pc-linux-gnu-library/3.6 1.4.5      \n",
       "sys               /home/rodrigo/R/x86_64-pc-linux-gnu-library/3.6 3.2        \n",
       "tensorflow        /home/rodrigo/R/x86_64-pc-linux-gnu-library/3.6 1.14.0.9000\n",
       "tibble            /home/rodrigo/R/x86_64-pc-linux-gnu-library/3.6 2.1.3      \n",
       "tidyr             /home/rodrigo/R/x86_64-pc-linux-gnu-library/3.6 1.0.0      \n",
       "tidyselect        /home/rodrigo/R/x86_64-pc-linux-gnu-library/3.6 0.2.5      \n",
       "tinytex           /home/rodrigo/R/x86_64-pc-linux-gnu-library/3.6 0.16       \n",
       "units             /home/rodrigo/R/x86_64-pc-linux-gnu-library/3.6 0.6-6      \n",
       "vctrs             /home/rodrigo/R/x86_64-pc-linux-gnu-library/3.6 0.2.2      \n",
       "vioplot           /home/rodrigo/R/x86_64-pc-linux-gnu-library/3.6 0.3.3      \n",
       "xfun              /home/rodrigo/R/x86_64-pc-linux-gnu-library/3.6 0.9        \n",
       "xlsx              /home/rodrigo/R/x86_64-pc-linux-gnu-library/3.6 0.6.3      \n",
       "xml2              /home/rodrigo/R/x86_64-pc-linux-gnu-library/3.6 1.2.5      \n",
       "yaml              /home/rodrigo/R/x86_64-pc-linux-gnu-library/3.6 2.2.0      \n",
       "zip               /home/rodrigo/R/x86_64-pc-linux-gnu-library/3.6 2.0.4      \n",
       "zoo               /home/rodrigo/R/x86_64-pc-linux-gnu-library/3.6 1.8-6      \n",
       "spatial           /usr/lib/R/library                              7.3-11     \n",
       "                  Built ReposVer Repository                             \n",
       "akima             3.6.0 0.6-2.1  https://cloud.r-project.org/src/contrib\n",
       "backports         3.6.1 1.1.10   https://cloud.r-project.org/src/contrib\n",
       "BH                3.6.1 1.72.0-3 https://cloud.r-project.org/src/contrib\n",
       "broom             3.6.3 0.7.1    https://cloud.r-project.org/src/contrib\n",
       "C50               3.6.1 0.1.3.1  https://cloud.r-project.org/src/contrib\n",
       "car               3.6.1 3.0-10   https://cloud.r-project.org/src/contrib\n",
       "carData           3.6.1 3.0-4    https://cloud.r-project.org/src/contrib\n",
       "caret             3.6.1 6.0-86   https://cloud.r-project.org/src/contrib\n",
       "caTools           3.6.1 1.18.0   https://cloud.r-project.org/src/contrib\n",
       "classInt          3.6.1 0.4-3    https://cloud.r-project.org/src/contrib\n",
       "clipr             3.6.0 0.7.1    https://cloud.r-project.org/src/contrib\n",
       "cowplot           3.6.1 1.1.0    https://cloud.r-project.org/src/contrib\n",
       "Cubist            3.6.1 0.2.3    https://cloud.r-project.org/src/contrib\n",
       "curl              3.6.0 4.3      https://cloud.r-project.org/src/contrib\n",
       "data.table        3.6.1 1.13.0   https://cloud.r-project.org/src/contrib\n",
       "DBI               3.6.1 1.1.0    https://cloud.r-project.org/src/contrib\n",
       "dbplyr            3.6.3 1.4.4    https://cloud.r-project.org/src/contrib\n",
       "dendextend        3.6.1 1.14.0   https://cloud.r-project.org/src/contrib\n",
       "dplyr             3.6.1 1.0.2    https://cloud.r-project.org/src/contrib\n",
       "dtw               3.6.1 1.22-3   https://cloud.r-project.org/src/contrib\n",
       "e1071             3.6.1 1.7-3    https://cloud.r-project.org/src/contrib\n",
       "ellipse           3.6.1 0.4.2    https://cloud.r-project.org/src/contrib\n",
       "factoextra        3.6.1 1.0.7    https://cloud.r-project.org/src/contrib\n",
       "FactoMineR        3.6.1 2.3      https://cloud.r-project.org/src/contrib\n",
       "fields            3.6.1 11.5     https://cloud.r-project.org/src/contrib\n",
       "forcats           3.6.1 0.5.0    https://cloud.r-project.org/src/contrib\n",
       "foreach           3.6.1 1.5.0    https://cloud.r-project.org/src/contrib\n",
       "fs                3.6.0 1.5.0    https://cloud.r-project.org/src/contrib\n",
       "gdalUtils         3.6.1 2.0.3.2  https://cloud.r-project.org/src/contrib\n",
       "ggplot2           3.6.1 3.3.2    https://cloud.r-project.org/src/contrib\n",
       "⋮                 ⋮     ⋮        ⋮                                      \n",
       "rgeos             3.6.3 0.5-5    https://cloud.r-project.org/src/contrib\n",
       "rJava             3.6.1 0.9-13   https://cloud.r-project.org/src/contrib\n",
       "rmarkdown         3.6.1 2.4      https://cloud.r-project.org/src/contrib\n",
       "rpart.plot        3.6.1 3.0.9    https://cloud.r-project.org/src/contrib\n",
       "rvcheck           3.6.1 0.1.8    https://cloud.r-project.org/src/contrib\n",
       "rvest             3.6.3 0.3.6    https://cloud.r-project.org/src/contrib\n",
       "scales            3.6.1 1.1.1    https://cloud.r-project.org/src/contrib\n",
       "sf                3.6.3 0.9-6    https://cloud.r-project.org/src/contrib\n",
       "sp                3.6.1 1.4-4    https://cloud.r-project.org/src/contrib\n",
       "spam              3.6.1 2.5-1    https://cloud.r-project.org/src/contrib\n",
       "SparseM           3.6.1 1.78     https://cloud.r-project.org/src/contrib\n",
       "SpecsVerification 3.6.1 0.5-3    https://cloud.r-project.org/src/contrib\n",
       "SQUAREM           3.6.1 2020.4   https://cloud.r-project.org/src/contrib\n",
       "stringi           3.6.2 1.5.3    https://cloud.r-project.org/src/contrib\n",
       "sys               3.6.0 3.4      https://cloud.r-project.org/src/contrib\n",
       "tensorflow        3.6.1 2.2.0    https://cloud.r-project.org/src/contrib\n",
       "tibble            3.6.0 3.0.3    https://cloud.r-project.org/src/contrib\n",
       "tidyr             3.6.1 1.1.2    https://cloud.r-project.org/src/contrib\n",
       "tidyselect        3.6.1 1.1.0    https://cloud.r-project.org/src/contrib\n",
       "tinytex           3.6.1 0.26     https://cloud.r-project.org/src/contrib\n",
       "units             3.6.3 0.6-7    https://cloud.r-project.org/src/contrib\n",
       "vctrs             3.6.2 0.3.4    https://cloud.r-project.org/src/contrib\n",
       "vioplot           3.6.1 0.3.5    https://cloud.r-project.org/src/contrib\n",
       "xfun              3.6.1 0.18     https://cloud.r-project.org/src/contrib\n",
       "xlsx              3.6.3 0.6.4.2  https://cloud.r-project.org/src/contrib\n",
       "xml2              3.6.3 1.3.2    https://cloud.r-project.org/src/contrib\n",
       "yaml              3.6.0 2.2.1    https://cloud.r-project.org/src/contrib\n",
       "zip               3.6.1 2.1.1    https://cloud.r-project.org/src/contrib\n",
       "zoo               3.6.1 1.8-8    https://cloud.r-project.org/src/contrib\n",
       "spatial           3.5.0 7.3-12   https://cloud.r-project.org/src/contrib"
      ]
     },
     "metadata": {},
     "output_type": "display_data"
    }
   ],
   "source": [
    "old.packages()"
   ]
  },
  {
   "cell_type": "markdown",
   "metadata": {
    "button": false,
    "new_sheet": false,
    "run_control": {
     "read_only": false
    }
   },
   "source": [
    "Para actualizar dichos paquetes:"
   ]
  },
  {
   "cell_type": "code",
   "execution_count": null,
   "metadata": {
    "button": false,
    "new_sheet": false,
    "run_control": {
     "read_only": false
    }
   },
   "outputs": [],
   "source": [
    "# update.packages()"
   ]
  },
  {
   "cell_type": "markdown",
   "metadata": {
    "button": false,
    "new_sheet": false,
    "run_control": {
     "read_only": false
    }
   },
   "source": [
    "Finalmente, podemos querer cargar una función que hayamos creado nosotros mismos o hayamos descargado en local, pero que no sea una librería. Para ello tenemos que usar el comando `source`. El problema de este comando es que **hay que volver a aplicarlo siempre que hagamos un cambio en la funcion que queramos utilizar**."
   ]
  },
  {
   "cell_type": "code",
   "execution_count": null,
   "metadata": {
    "button": false,
    "new_sheet": false,
    "run_control": {
     "read_only": false
    }
   },
   "outputs": [],
   "source": [
    "source(\".../show.name.R\")  # cargamos la función en memoria\n",
    "show.name(\"Pelayo\")  # ya podemos utilizar la función"
   ]
  }
 ],
 "metadata": {
  "kernelspec": {
   "display_name": "R",
   "language": "R",
   "name": "ir"
  },
  "language_info": {
   "codemirror_mode": "r",
   "file_extension": ".r",
   "mimetype": "text/x-r-source",
   "name": "R",
   "pygments_lexer": "r",
   "version": "3.6.3"
  }
 },
 "nbformat": 4,
 "nbformat_minor": 2
}
